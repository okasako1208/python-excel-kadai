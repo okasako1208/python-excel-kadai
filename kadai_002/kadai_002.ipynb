{
  "nbformat": 4,
  "nbformat_minor": 0,
  "metadata": {
    "colab": {
      "provenance": []
    },
    "kernelspec": {
      "name": "python3",
      "display_name": "Python 3"
    },
    "language_info": {
      "name": "python"
    }
  },
  "cells": [
    {
      "cell_type": "code",
      "execution_count": null,
      "metadata": {
        "colab": {
          "base_uri": "https://localhost:8080/"
        },
        "id": "4lm-fP2vSZfV",
        "outputId": "bcc278ae-3efb-4d61-ed7c-a7b07ee6f27e"
      },
      "outputs": [
        {
          "output_type": "stream",
          "name": "stdout",
          "text": [
            "3\n"
          ]
        }
      ],
      "source": [
        "print(1+2)\n"
      ]
    },
    {
      "cell_type": "code",
      "source": [
        "age = 18 # 年齢\n",
        "\n",
        "if age < 20:\n",
        "    # 未成年の場合\n",
        "    print(\"ジュースで乾杯！\")\n",
        "else:\n",
        "    # 成年の場合\n",
        "    print(\"お酒で乾杯！\")"
      ],
      "metadata": {
        "colab": {
          "base_uri": "https://localhost:8080/"
        },
        "id": "OG1oHqG7SlcR",
        "outputId": "2dcb5aa4-dffe-4a2a-d1f6-cd8369a70c25"
      },
      "execution_count": null,
      "outputs": [
        {
          "output_type": "stream",
          "name": "stdout",
          "text": [
            "ジュースで乾杯！\n"
          ]
        }
      ]
    },
    {
      "cell_type": "code",
      "source": [
        "print('こんにちは')\n",
        "print(\"今日はいい天気ですね\")"
      ],
      "metadata": {
        "colab": {
          "base_uri": "https://localhost:8080/"
        },
        "id": "4mR6aDBTXBGv",
        "outputId": "e5a90b98-46f5-4021-cbfe-68abae0e712e"
      },
      "execution_count": null,
      "outputs": [
        {
          "output_type": "stream",
          "name": "stdout",
          "text": [
            "こんにちは\n",
            "今日はいい天気ですね\n"
          ]
        }
      ]
    },
    {
      "cell_type": "code",
      "source": [
        "print(True)\n",
        "print(False)"
      ],
      "metadata": {
        "colab": {
          "base_uri": "https://localhost:8080/"
        },
        "id": "OWrx-hWzXl6b",
        "outputId": "c0fd57dc-a0c9-4b94-cb7a-e857ce46f859"
      },
      "execution_count": null,
      "outputs": [
        {
          "output_type": "stream",
          "name": "stdout",
          "text": [
            "True\n",
            "False\n"
          ]
        }
      ]
    },
    {
      "cell_type": "code",
      "source": [
        "print(45 + 18)\n",
        "print(30 - 12)\n",
        "print(15 * 6)\n",
        "print(30 / 3)\n",
        "print(45 % 8)\n",
        "print(type(30 / 3))"
      ],
      "metadata": {
        "colab": {
          "base_uri": "https://localhost:8080/"
        },
        "id": "OAMiFi1XXsYD",
        "outputId": "ef382d34-730e-44e4-e87a-bb89f62413ca"
      },
      "execution_count": null,
      "outputs": [
        {
          "output_type": "stream",
          "name": "stdout",
          "text": [
            "63\n",
            "18\n",
            "90\n",
            "10.0\n",
            "5\n",
            "<class 'float'>\n"
          ]
        }
      ]
    },
    {
      "cell_type": "code",
      "source": [
        "print(45 + 1.8)\n",
        "print(3 - 1.2)\n",
        "print(15 * 0.6)\n",
        "print(3 / 0.3)\n",
        "print(45 % 0.8)"
      ],
      "metadata": {
        "colab": {
          "base_uri": "https://localhost:8080/"
        },
        "id": "Zm7CJPN8Y52a",
        "outputId": "7e7beff3-7ccd-4acf-f8a9-868c6af62a28"
      },
      "execution_count": null,
      "outputs": [
        {
          "output_type": "stream",
          "name": "stdout",
          "text": [
            "46.8\n",
            "1.8\n",
            "9.0\n",
            "10.0\n",
            "0.1999999999999975\n"
          ]
        }
      ]
    },
    {
      "cell_type": "code",
      "source": [
        "print(\"今日の天気は\" + \"晴れ\")\n",
        "print(\"今日の天気は\" \"曇り\")"
      ],
      "metadata": {
        "colab": {
          "base_uri": "https://localhost:8080/"
        },
        "id": "mxWHqO59ZCbU",
        "outputId": "291fb9db-41c3-471f-d364-b9c5ac23c56d"
      },
      "execution_count": null,
      "outputs": [
        {
          "output_type": "stream",
          "name": "stdout",
          "text": [
            "今日の天気は晴れ\n",
            "今日の天気は曇り\n"
          ]
        }
      ]
    },
    {
      "cell_type": "code",
      "source": [
        "print(\"降水確率\" + str(50) + \"％\" )"
      ],
      "metadata": {
        "colab": {
          "base_uri": "https://localhost:8080/"
        },
        "id": "gl6OZokMaeo8",
        "outputId": "5f9d66c8-2d76-4261-cb93-7f17c86ff94c"
      },
      "execution_count": null,
      "outputs": [
        {
          "output_type": "stream",
          "name": "stdout",
          "text": [
            "降水確率50％\n"
          ]
        }
      ]
    },
    {
      "cell_type": "code",
      "source": [
        "print(\"晴れ\" * 5)\n",
        "print(\"晴れ\" + \"晴れ\" + \"晴れ\" + \"晴れ\" + \"晴れ\")"
      ],
      "metadata": {
        "colab": {
          "base_uri": "https://localhost:8080/"
        },
        "id": "A_I0SZp1ajEp",
        "outputId": "2462f2aa-c723-47a3-916d-d1166af5b6bc"
      },
      "execution_count": null,
      "outputs": [
        {
          "output_type": "stream",
          "name": "stdout",
          "text": [
            "晴れ晴れ晴れ晴れ晴れ\n",
            "晴れ晴れ晴れ晴れ晴れ\n"
          ]
        }
      ]
    },
    {
      "cell_type": "code",
      "source": [
        "user_name = \"侍太郎\"\n",
        "print(user_name)"
      ],
      "metadata": {
        "colab": {
          "base_uri": "https://localhost:8080/"
        },
        "id": "qw-FIn7aa_Au",
        "outputId": "27e3943c-6d77-4e87-ae13-c9a23dcdc17c"
      },
      "execution_count": null,
      "outputs": [
        {
          "output_type": "stream",
          "name": "stdout",
          "text": [
            "侍太郎\n"
          ]
        }
      ]
    },
    {
      "cell_type": "code",
      "source": [
        "user_name = \"侍太郎\"\n",
        "print(user_name)\n",
        "\n",
        "user_name = \"侍花子\"\n",
        "print(user_name)"
      ],
      "metadata": {
        "colab": {
          "base_uri": "https://localhost:8080/"
        },
        "id": "GKss6JgicyKn",
        "outputId": "501ffae2-23b6-4c5f-fa77-30469deafc09"
      },
      "execution_count": null,
      "outputs": [
        {
          "output_type": "stream",
          "name": "stdout",
          "text": [
            "侍太郎\n",
            "侍花子\n"
          ]
        }
      ]
    },
    {
      "cell_type": "code",
      "source": [
        "# 整数型と浮動小数点型の足し算\n",
        "number1 = 5\n",
        "number2 = 2.5\n",
        "print(number1 + number2)\n",
        "\n",
        "# 文字列型と文字列型の連結\n",
        "last_name  = \"侍\"\n",
        "first_name = \"太郎\"\n",
        "print(last_name + first_name)"
      ],
      "metadata": {
        "colab": {
          "base_uri": "https://localhost:8080/"
        },
        "id": "pUuKbH7ec2vV",
        "outputId": "dc157130-6766-4398-81e9-6346da5ebf19"
      },
      "execution_count": null,
      "outputs": [
        {
          "output_type": "stream",
          "name": "stdout",
          "text": [
            "7.5\n",
            "侍太郎\n"
          ]
        }
      ]
    },
    {
      "cell_type": "code",
      "source": [
        "last_name   = \"侍\"\n",
        "first_name  = \"太郎\"\n",
        "sister_name = \"花子\"\n",
        "\n",
        "# 3つの変数を文字列内に埋め込んで表示\n",
        "print(f\"私の名前は{last_name}{first_name}です。妹の名前は{sister_name}です。\")"
      ],
      "metadata": {
        "colab": {
          "base_uri": "https://localhost:8080/"
        },
        "id": "BOifnFvCgtln",
        "outputId": "28757fc6-56fb-40f8-d1eb-ab3dc93a6e78"
      },
      "execution_count": null,
      "outputs": [
        {
          "output_type": "stream",
          "name": "stdout",
          "text": [
            "私の名前は侍太郎です。妹の名前は花子です。\n"
          ]
        }
      ]
    },
    {
      "cell_type": "code",
      "source": [
        "上辺：10cm\n",
        "下辺：20cm\n",
        "高さ：5cm\n",
        "\n",
        "公式：台形の面積 =（上辺＋下辺）× 高さ ÷ 2"
      ],
      "metadata": {
        "colab": {
          "base_uri": "https://localhost:8080/",
          "height": 110
        },
        "id": "h-0VSkYwh1iB",
        "outputId": "3fba8ff8-c444-4de6-f3b1-b92dbd603905"
      },
      "execution_count": null,
      "outputs": [
        {
          "output_type": "error",
          "ename": "SyntaxError",
          "evalue": "invalid character '：' (U+FF1A) (ipython-input-486463446.py, line 1)",
          "traceback": [
            "\u001b[0;36m  File \u001b[0;32m\"/tmp/ipython-input-486463446.py\"\u001b[0;36m, line \u001b[0;32m1\u001b[0m\n\u001b[0;31m    上辺：10cm\u001b[0m\n\u001b[0m      ^\u001b[0m\n\u001b[0;31mSyntaxError\u001b[0m\u001b[0;31m:\u001b[0m invalid character '：' (U+FF1A)\n"
          ]
        }
      ]
    },
    {
      "cell_type": "code",
      "source": [
        "# 台形の寸法\n",
        "upper_base = 10  # 上辺（cm）\n",
        "lower_base = 20  # 下辺（cm）\n",
        "height = 5       # 高さ（cm）\n",
        "\n",
        "# 台形の面積公式：（上辺 + 下辺） × 高さ ÷ 2\n",
        "area = (upper_base + lower_base) * height / 2\n",
        "\n",
        "print(f\"台形の面積は {area} cm² です。\")\n"
      ],
      "metadata": {
        "id": "afxE-3s6iGmg"
      },
      "execution_count": null,
      "outputs": []
    },
    {
      "cell_type": "code",
      "source": [],
      "metadata": {
        "id": "n2ndNup_t1z4"
      },
      "execution_count": null,
      "outputs": []
    },
    {
      "cell_type": "code",
      "source": [],
      "metadata": {
        "id": "NnuYsdL-t4EC"
      },
      "execution_count": null,
      "outputs": []
    },
    {
      "cell_type": "code",
      "source": [],
      "metadata": {
        "id": "KcLpzL5FMFGu"
      },
      "execution_count": null,
      "outputs": []
    },
    {
      "cell_type": "code",
      "source": [
        "pip install Django"
      ],
      "metadata": {
        "id": "UujCKXjLMHDj"
      },
      "execution_count": null,
      "outputs": []
    },
    {
      "cell_type": "code",
      "source": [
        "user_names = [\"侍太郎\", \"侍一郎\", \"侍二郎\", \"侍三郎\", \"侍四郎\"]\n",
        "\n",
        "# 2番目の要素を更新する\n",
        "user_names[1] = \"侍花子\"\n",
        "\n",
        "# 2番目の要素を表示する\n",
        "print(user_names[1])"
      ],
      "metadata": {
        "id": "MKNznZc8tzhd"
      },
      "execution_count": null,
      "outputs": []
    },
    {
      "cell_type": "code",
      "source": [
        "stationery_prices = {\"鉛筆\": 70, \"ボールペン\": 120, \"シャープペンシル\": 150, \"消しゴム\": 90}\n",
        "\n",
        "# ボールペンの価格を取り出して表示\n",
        "print(stationery_prices[\"ボールペン\"])"
      ],
      "metadata": {
        "id": "2qFus3gVxmly"
      },
      "execution_count": null,
      "outputs": []
    },
    {
      "cell_type": "code",
      "source": [],
      "metadata": {
        "id": "Dv0ka2J3t6Pi"
      },
      "execution_count": null,
      "outputs": []
    },
    {
      "cell_type": "code",
      "source": [
        "sports = {1: \"サッカー\", 2: \"野球\", 3: \"バスケット\"}\n",
        "\n",
        "# キー「2」の値を「バドミントン」に書き換える\n",
        "sports[2] = \"バドミントン\"\n",
        "\n",
        "# キー「4」として「水泳」を追加する\n",
        "sports[4] = \"水泳\"\n",
        "\n",
        "# 連想配列全体を取り出して表示\n",
        "print(sports)"
      ],
      "metadata": {
        "id": "Lzhsvx2DyPxt",
        "colab": {
          "base_uri": "https://localhost:8080/"
        },
        "outputId": "34be43f1-a633-477e-d5f9-ddf2ad726093"
      },
      "execution_count": null,
      "outputs": [
        {
          "output_type": "stream",
          "name": "stdout",
          "text": [
            "{1: 'サッカー', 2: 'バドミントン', 3: 'バスケット', 4: '水泳'}\n"
          ]
        }
      ]
    },
    {
      "cell_type": "code",
      "source": [
        "# 連想配列を作成\n",
        "personal_data = {\"name\": \"侍太郎\", \"age\": 36, \"gender\": \"男性\"}\n",
        "\n",
        "# キー「name」の値を表示\n",
        "print(personal_data[\"name\"])\n",
        "\n",
        "# 連想配列全体を表示\n",
        "print(personal_data)\n",
        "\n",
        "# キー「age」の値を更新\n",
        "personal_data[\"age\"] = 37\n",
        "\n",
        "# 新しく要素（キーと値）を追加\n",
        "personal_data[\"address\"] = \"東京都\"\n",
        "\n",
        "# 連想配列全体を表示\n",
        "print(personal_data)"
      ],
      "metadata": {
        "id": "6P6WjqNFy2dV",
        "colab": {
          "base_uri": "https://localhost:8080/"
        },
        "outputId": "667f12d3-9383-48ae-e693-6730b22699a6"
      },
      "execution_count": null,
      "outputs": [
        {
          "output_type": "stream",
          "name": "stdout",
          "text": [
            "侍太郎\n",
            "{'name': '侍太郎', 'age': 36, 'gender': '男性'}\n",
            "{'name': '侍太郎', 'age': 37, 'gender': '男性', 'address': '東京都'}\n"
          ]
        }
      ]
    },
    {
      "cell_type": "code",
      "source": [
        "array = {0:\"月曜日は晴れです\"，1:\"火曜日は雨です\"，2:\"水曜日は晴れです\"，3:\"木曜日は晴れです\"，4：\"金曜日は曇りです\"，5:\"土曜日は曇りのち雨です\"，6:“日曜日は雷雨です\"}\n",
        "\n",
        "stationery_weather=｛\"mom\": 晴れ, \"tue\": 雨, \"wed\": 晴れ, \"thu\"晴れ，\"fri\": 曇り, \"sat\": 曇りのち雨, \"sun\": 雷雨｝"
      ],
      "metadata": {
        "id": "5ppRnG670zaO",
        "colab": {
          "base_uri": "https://localhost:8080/",
          "height": 110
        },
        "outputId": "6733ffbf-57a4-4516-df60-0f58c521c12a"
      },
      "execution_count": null,
      "outputs": [
        {
          "output_type": "error",
          "ename": "SyntaxError",
          "evalue": "invalid character '，' (U+FF0C) (ipython-input-3912212725.py, line 1)",
          "traceback": [
            "\u001b[0;36m  File \u001b[0;32m\"/tmp/ipython-input-3912212725.py\"\u001b[0;36m, line \u001b[0;32m1\u001b[0m\n\u001b[0;31m    array = {0:\"月曜日は晴れです\"，1:\"火曜日は雨です\"，2:\"水曜日は晴れです\"，3:\"木曜日は晴れです\"，4：\"金曜日は曇りです\"，5:\"土曜日は曇りのち雨です\"，6:“日曜日は雷雨です\"}\u001b[0m\n\u001b[0m                         ^\u001b[0m\n\u001b[0;31mSyntaxError\u001b[0m\u001b[0;31m:\u001b[0m invalid character '，' (U+FF0C)\n"
          ]
        }
      ]
    },
    {
      "cell_type": "code",
      "source": [
        "# リスト（array）の作成\n",
        "array = [\n",
        "    \"月曜日は晴れです\",\n",
        "    \"火曜日は雨です\",\n",
        "    \"水曜日は晴れです\",\n",
        "    \"木曜日は晴れです\",\n",
        "    \"金曜日は曇りです\",\n",
        "    \"土曜日は曇りのち雨です\",\n",
        "    \"日曜日は雷雨です\"\n",
        "]\n",
        "\n",
        "# ディクショナリの作成\n",
        "dictionary = {\n",
        "    \"mon\": \"晴れ\",\n",
        "    \"tue\": \"雨\",\n",
        "    \"wed\": \"晴れ\",\n",
        "    \"thu\": \"晴れ\",\n",
        "    \"fri\": \"曇り\",\n",
        "    \"sat\": \"曇りのち雨\",\n",
        "    \"sun\": \"雷雨\"\n",
        "}\n",
        "\n",
        "# 水曜日の天気予報を取り出して出力\n",
        "print(array[2])          # リストから取り出す\n",
        "print(dictionary[\"wed\"]) # ディクショナリから取り出す\n"
      ],
      "metadata": {
        "id": "hI6ziZlw4tRR"
      },
      "execution_count": null,
      "outputs": []
    },
    {
      "cell_type": "code",
      "source": [
        "# 変数 var を任意の正の整数に設定\n",
        "var = 15\n",
        "\n",
        "# 条件分岐\n",
        "if var % 3 == 0 and var % 5 == 0:\n",
        "    print(\"FizzBuzz\")\n",
        "elif var % 3 == 0:\n",
        "    print(\"Fizz\")\n",
        "elif var % 5 == 0:\n",
        "    print(\"Buzz\")\n",
        "else:\n",
        "    print(var)\n"
      ],
      "metadata": {
        "id": "Qc5WMsbfAB6t"
      },
      "execution_count": null,
      "outputs": []
    },
    {
      "cell_type": "code",
      "source": [
        "for i in range(1,11):\n",
        " print(i)"
      ],
      "metadata": {
        "id": "x6GZ7UqwuwDi"
      },
      "execution_count": null,
      "outputs": []
    },
    {
      "cell_type": "code",
      "source": [
        "for i in range(1,11):\n",
        "   print(i)\n",
        " #ループ変数の値が５であれば、break文で繰り返し処理を強制終了する\n",
        "   if i == 5:\n",
        "     break"
      ],
      "metadata": {
        "id": "YF7LRLqsvebs"
      },
      "execution_count": null,
      "outputs": []
    },
    {
      "cell_type": "code",
      "source": [
        "import random\n",
        "\n",
        "while True:\n",
        "    num = random.randint(1, 20)\n",
        "    print(num)\n",
        "    if num == 20:\n",
        "        print(\"20が出たので終了します！\")\n",
        "        break\n"
      ],
      "metadata": {
        "id": "NccaPqqfxvbm"
      },
      "execution_count": null,
      "outputs": []
    },
    {
      "cell_type": "code",
      "source": [
        "import random\n",
        "\n",
        "num = random.randint(0, 4)  # まず最初にランダム代入\n",
        "\n",
        "while num != 0:\n",
        "    print(num)\n",
        "    num = random.randint(0, 4)  # 繰り返し新しいランダム値を代入\n"
      ],
      "metadata": {
        "id": "-1H9A5BWxvLD",
        "colab": {
          "base_uri": "https://localhost:8080/"
        },
        "outputId": "64d4492d-9857-4f61-eb64-40873ac8f8d3"
      },
      "execution_count": null,
      "outputs": [
        {
          "output_type": "stream",
          "name": "stdout",
          "text": [
            "4\n",
            "1\n",
            "4\n",
            "1\n",
            "4\n"
          ]
        }
      ]
    },
    {
      "cell_type": "code",
      "source": [
        "import random\n",
        "\n",
        "total = 0  # 合計値を入れる変数（sumは組み込み関数なので別名にした方が安全）\n",
        "\n",
        "while total < 20:\n",
        "    num = random.randint(1, 10)  # 1〜10のランダム整数\n",
        "    print(f\"num = {num}\")  # 今回の乱数を表示\n",
        "\n",
        "    if num % 2 == 0:\n",
        "        continue  # 偶数なら加算せずスキップ\n",
        "\n",
        "    total += num  # 奇数なら合計に加算\n",
        "    print(f\"合計 = {total}\")\n",
        "\n",
        "print(\"合計が20以上になったので終了します！\")\n"
      ],
      "metadata": {
        "id": "UZ1yldn25Wi5",
        "colab": {
          "base_uri": "https://localhost:8080/"
        },
        "outputId": "396f8cf1-fa26-4973-93c9-e669e282b3e1"
      },
      "execution_count": null,
      "outputs": [
        {
          "output_type": "stream",
          "name": "stdout",
          "text": [
            "num = 2\n",
            "num = 3\n",
            "合計 = 3\n",
            "num = 6\n",
            "num = 8\n",
            "num = 10\n",
            "num = 7\n",
            "合計 = 10\n",
            "num = 6\n",
            "num = 5\n",
            "合計 = 15\n",
            "num = 9\n",
            "合計 = 24\n",
            "合計が20以上になったので終了します！\n"
          ]
        }
      ]
    },
    {
      "cell_type": "code",
      "source": [
        "array = [\"水\",\"金\",\"地\",\"火\",\"木\",\"土\",\"天\",\"海\",\"冥\"]\n",
        "\n",
        "# 2周するように range(2) を指定\n",
        "for i in range(2):\n",
        "    for elem in array:\n",
        "        print(elem)\n"
      ],
      "metadata": {
        "id": "eRYvLloWMrzl",
        "colab": {
          "base_uri": "https://localhost:8080/"
        },
        "outputId": "37a3f397-4740-43a7-8b7e-b171bd695449"
      },
      "execution_count": null,
      "outputs": [
        {
          "output_type": "stream",
          "name": "stdout",
          "text": [
            "水\n",
            "金\n",
            "地\n",
            "火\n",
            "木\n",
            "土\n",
            "天\n",
            "海\n",
            "冥\n",
            "水\n",
            "金\n",
            "地\n",
            "火\n",
            "木\n",
            "土\n",
            "天\n",
            "海\n",
            "冥\n"
          ]
        }
      ]
    },
    {
      "cell_type": "code",
      "source": [
        "array = [\"水\",\"金\",\"地\",\"火\",\"木\",\"土\",\"天\",\"海\",\"冥\"]\n",
        "\n",
        "count = 0\n",
        "while count < 2:  # 2周する\n",
        "    index = 0\n",
        "    while index < len(array):\n",
        "        print(array[index])\n",
        "        index += 1\n",
        "    count += 1\n"
      ],
      "metadata": {
        "id": "KpJvTkDNM1XD",
        "colab": {
          "base_uri": "https://localhost:8080/"
        },
        "outputId": "575f522b-fec9-4c6b-9060-d3e81c84828d"
      },
      "execution_count": null,
      "outputs": [
        {
          "output_type": "stream",
          "name": "stdout",
          "text": [
            "水\n",
            "金\n",
            "地\n",
            "火\n",
            "木\n",
            "土\n",
            "天\n",
            "海\n",
            "冥\n",
            "水\n",
            "金\n",
            "地\n",
            "火\n",
            "木\n",
            "土\n",
            "天\n",
            "海\n",
            "冥\n"
          ]
        }
      ]
    },
    {
      "cell_type": "code",
      "source": [
        "#朝の挨拶をする関数\n",
        "def say_good_morning():\n",
        " print(\"おはよ!\")\n",
        " print(\"昨日は眠れた？\")\n",
        " print(\"今日も頑張ろうな！\")\n",
        "\n",
        "#朝の挨拶関数を呼び出す\n",
        "say_good_morning()"
      ],
      "metadata": {
        "id": "MLRKiSs-QEgE",
        "colab": {
          "base_uri": "https://localhost:8080/"
        },
        "outputId": "ae494a23-2b5b-45ae-98e5-8282e2d0a313"
      },
      "execution_count": null,
      "outputs": [
        {
          "output_type": "stream",
          "name": "stdout",
          "text": [
            "おはよ!\n",
            "昨日は眠れた？\n",
            "今日も頑張ろうな！\n"
          ]
        }
      ]
    },
    {
      "cell_type": "code",
      "source": [
        "#与えられた引数$priceに送料を加算し、その値を出力する関数を定義する\n",
        "def calculate_total(price):\n",
        " #与えられた引数priceに送料を加算し、変数totalに代入する\n",
        " total=price+500\n",
        "\n",
        " #変数totalの値を出力する\n",
        " print(f\"{total}円\")\n",
        "\n",
        "#関数を呼び出し、引数として購入金額を渡す\n",
        "calculate_total(1200)"
      ],
      "metadata": {
        "id": "eBAgwuVrWZc8",
        "colab": {
          "base_uri": "https://localhost:8080/"
        },
        "outputId": "bc4a9cb4-08d6-4981-b34f-ba4ebbba65a9"
      },
      "execution_count": null,
      "outputs": [
        {
          "output_type": "stream",
          "name": "stdout",
          "text": [
            "1700円\n"
          ]
        }
      ]
    },
    {
      "cell_type": "code",
      "source": [
        "def add_two_arguments(price, shipping_fee):\n",
        "    # 与えられた引数priceと引数shipping_feeを加算し、変数totalに代入する\n",
        "    total = price + shipping_fee\n",
        "\n",
        "    # 変数$totalの値を出力する\n",
        "    print(f\"{total}円\")"
      ],
      "metadata": {
        "id": "KD6_XO1nZJ5p"
      },
      "execution_count": null,
      "outputs": []
    },
    {
      "cell_type": "code",
      "source": [
        "def add_two_arguments(price, shipping_fee):\n",
        "    # 与えられた引数priceと引数shipping_feeを加算し、変数totalに代入する\n",
        "    total = price + shipping_fee\n",
        "\n",
        "    # 変数$totalの値を出力する\n",
        "    print(f\"{total}円\")\n",
        "\n",
        "# 関数を呼び出し、引数として購入金額と送料を渡す\n",
        "add_two_arguments(1200, 500)"
      ],
      "metadata": {
        "id": "usK98Td1ZO79",
        "colab": {
          "base_uri": "https://localhost:8080/"
        },
        "outputId": "dbdd4894-073b-487d-95c8-13cbf4166988"
      },
      "execution_count": null,
      "outputs": [
        {
          "output_type": "stream",
          "name": "stdout",
          "text": [
            "1700円\n"
          ]
        }
      ]
    },
    {
      "cell_type": "code",
      "source": [
        "# ユーザー名を引数にとり、あいさつ文を返す関数\n",
        "def greet_user(user_name: str) -> str:\n",
        "    # 引数が空文字の場合\n",
        "    if user_name == \"\":\n",
        "        return \"こんにちは、ゲストさん！\"\n",
        "    else:\n",
        "        return f\"こんにちは、{user_name}さん！\"\n",
        "\n",
        "\n",
        "# テスト\n",
        "print(greet_user(\"岡迫\"))   # → こんにちは、岡迫さん！\n",
        "print(greet_user(\"\"))       # → こんにちは、ゲストさん！\n"
      ],
      "metadata": {
        "id": "h1etnljKZzCN",
        "colab": {
          "base_uri": "https://localhost:8080/"
        },
        "outputId": "d03d3084-30c0-4311-ef46-ede40dd8986c"
      },
      "execution_count": null,
      "outputs": [
        {
          "output_type": "stream",
          "name": "stdout",
          "text": [
            "こんにちは、岡迫さん！\n",
            "こんにちは、ゲストさん！\n"
          ]
        }
      ]
    },
    {
      "cell_type": "code",
      "source": [
        "# 商品購入時の消費税を計算する関数\n",
        "def calculate_total(price: float, tax_rate: float) -> float:\n",
        "    \"\"\"\n",
        "    price: 商品の金額\n",
        "    tax_rate: 消費税率（%）\n",
        "    return: 消費税込みの合計金額\n",
        "    \"\"\"\n",
        "    # 消費税率を計算（例：10% → 0.10）\n",
        "    tax = price * (tax_rate / 100)\n",
        "    total = price + tax\n",
        "    return total\n",
        "\n",
        "\n",
        "# 関数の呼び出し（第1引数: 商品の金額 110, 第2引数: 消費税率 10）\n",
        "result = calculate_total(110, 10)\n",
        "\n",
        "# 計算結果を出力\n",
        "print(f\"消費税込みの金額: {result}\")\n"
      ],
      "metadata": {
        "id": "vHq8V2C_cLY8",
        "colab": {
          "base_uri": "https://localhost:8080/"
        },
        "outputId": "a24f5e5a-cd1a-47cc-a92d-a7ae5332e100"
      },
      "execution_count": null,
      "outputs": [
        {
          "output_type": "stream",
          "name": "stdout",
          "text": [
            "消費税込みの金額: 121.0\n"
          ]
        }
      ]
    },
    {
      "cell_type": "code",
      "source": [
        "def show_user_name():\n",
        "    # ローカル変数を定義する\n",
        "    user_name = \"侍太郎\"\n",
        "\n",
        "    # ローカルスコープの範囲内でローカル変数を使う\n",
        "    print(user_name)\n",
        "\n",
        "show_user_name()"
      ],
      "metadata": {
        "id": "5PaJ2mwThu2u",
        "colab": {
          "base_uri": "https://localhost:8080/"
        },
        "outputId": "e6cc03a7-c957-4edd-aa4d-91fde64f0ba1"
      },
      "execution_count": null,
      "outputs": [
        {
          "output_type": "stream",
          "name": "stdout",
          "text": [
            "侍太郎\n"
          ]
        }
      ]
    },
    {
      "cell_type": "code",
      "source": [
        "def show_user_name():\n",
        "    # ローカル変数を定義する\n",
        "    user_name = \"侍太郎\"\n",
        "\n",
        "    # ローカルスコープの範囲内でローカル変数を使う\n",
        "    print(user_name)\n",
        "\n",
        "show_user_name()\n",
        "\n",
        "# ローカルスコープの範囲外でローカル変数を使う（エラーが発生する）\n",
        "print(user_name)"
      ],
      "metadata": {
        "id": "jqJkQLGGiLoY",
        "colab": {
          "base_uri": "https://localhost:8080/"
        },
        "outputId": "a15a9661-09d3-49d0-968d-c1b045fa4be6"
      },
      "execution_count": null,
      "outputs": [
        {
          "output_type": "stream",
          "name": "stdout",
          "text": [
            "侍太郎\n",
            "侍花子\n"
          ]
        }
      ]
    },
    {
      "cell_type": "code",
      "source": [
        "# グローバル変数を定義する\n",
        "user_name = \"侍花子\"\n",
        "\n",
        "def show_user_name():\n",
        "    # ローカル変数を定義する\n",
        "    user_name = \"侍太郎\"\n",
        "\n",
        "    # ローカルスコープの範囲内でローカル変数を使う\n",
        "    print(user_name)\n",
        "\n",
        "show_user_name()\n",
        "\n",
        "# グローバルスコープの範囲内でグローバル変数を使う\n",
        "print(user_name)"
      ],
      "metadata": {
        "colab": {
          "base_uri": "https://localhost:8080/"
        },
        "id": "Dc8qUlqIjMiD",
        "outputId": "ebd42654-b489-43d6-8b13-5dac06d089f8"
      },
      "execution_count": null,
      "outputs": [
        {
          "output_type": "stream",
          "name": "stdout",
          "text": [
            "侍太郎\n",
            "侍花子\n"
          ]
        }
      ]
    },
    {
      "cell_type": "code",
      "source": [
        "# グローバル変数を定義する\n",
        "user_name = \"侍花子\"\n",
        "\n",
        "def show_user_name():\n",
        "    # ローカル変数を定義する\n",
        "    user_name = \"侍太郎\"\n",
        "    # user_name = \"侍太郎\"\n",
        "\n",
        "    # ローカルスコープの範囲内でローカル変数を使う\n",
        "    # グローバルスコープの範囲外でグローバル変数を使う（エラーが発生しない）\n",
        "    print(user_name)\n",
        "\n",
        "show_user_name()\n",
        "\n",
        "# グローバルスコープの範囲内でグローバル変数を使う\n",
        "print(user_name)"
      ],
      "metadata": {
        "colab": {
          "base_uri": "https://localhost:8080/"
        },
        "id": "Ki_JOX1rjVvL",
        "outputId": "87e4669e-fc62-498d-ec09-2cf71f2c584f"
      },
      "execution_count": null,
      "outputs": [
        {
          "output_type": "stream",
          "name": "stdout",
          "text": [
            "侍太郎\n",
            "侍花子\n"
          ]
        }
      ]
    },
    {
      "cell_type": "code",
      "source": [
        "price1 = 100\n",
        "price2 = 200\n",
        "\n",
        "def total():\n",
        "    tax = 1.1\n",
        "    return (price1 + price2) * tax\n",
        "\n",
        "print(total())\n"
      ],
      "metadata": {
        "colab": {
          "base_uri": "https://localhost:8080/"
        },
        "id": "jZl2uPhxkWR7",
        "outputId": "66761671-e891-4f42-ce62-5da15bb258d1"
      },
      "execution_count": null,
      "outputs": [
        {
          "output_type": "stream",
          "name": "stdout",
          "text": [
            "330.0\n"
          ]
        }
      ]
    },
    {
      "cell_type": "code",
      "source": [
        "class Product:\n",
        "    def __init__(self):\n",
        "        # 属性を定義する\n",
        "        self.name = \"\"\n",
        "\n",
        "shampoo = Product()\n",
        "\n",
        "# 属性にアクセスし、値を代入する\n",
        "shampoo.name = \"シャンプー\"\n",
        "\n",
        "# 属性にアクセスし、値を出力する\n",
        "print(shampoo.name)"
      ],
      "metadata": {
        "colab": {
          "base_uri": "https://localhost:8080/"
        },
        "id": "nl3cr6EqoI3v",
        "outputId": "b396880b-0a97-461b-d388-623eb526cf5b"
      },
      "execution_count": null,
      "outputs": [
        {
          "output_type": "stream",
          "name": "stdout",
          "text": [
            "シャンプー\n"
          ]
        }
      ]
    },
    {
      "cell_type": "code",
      "source": [
        "class Product:\n",
        "    def __init__(self):\n",
        "        self.name = \"\"\n",
        "\n",
        "    # メソッドを定義する\n",
        "    def set_name(self, name):\n",
        "        self.name = name\n",
        "\n",
        "shampoo = Product()\n",
        "\n",
        "# メソッドにアクセスして実行する\n",
        "shampoo.set_name(\"シャンプー\")"
      ],
      "metadata": {
        "id": "yOZCzdWZoVRr"
      },
      "execution_count": null,
      "outputs": []
    },
    {
      "cell_type": "code",
      "source": [
        "class Product:\n",
        "    def __init__(self):\n",
        "        self.name = \"\"\n",
        "\n",
        "    # メソッドを定義する\n",
        "    def set_name(self, name):\n",
        "        self.name = name\n",
        "\n",
        "    def show_name(self):\n",
        "        print(self.name)\n",
        "\n",
        "# インスタンス化する\n",
        "coffee = Product()\n",
        "\n",
        "# メソッドにアクセスして実行する\n",
        "coffee.set_name(\"コーヒー\")\n",
        "coffee.show_name()"
      ],
      "metadata": {
        "colab": {
          "base_uri": "https://localhost:8080/"
        },
        "id": "EiOLWoAkoYfg",
        "outputId": "7a7a02cc-ce0e-41cf-e53b-1f2f215c0585"
      },
      "execution_count": null,
      "outputs": [
        {
          "output_type": "stream",
          "name": "stdout",
          "text": [
            "コーヒー\n"
          ]
        }
      ]
    },
    {
      "cell_type": "code",
      "source": [
        "class Product:\n",
        "    def __init__(self):\n",
        "        # 属性を定義する\n",
        "        self.name = \"\""
      ],
      "metadata": {
        "id": "z_fnrFC6o3S5"
      },
      "execution_count": null,
      "outputs": []
    },
    {
      "cell_type": "code",
      "source": [
        "class User:\n",
        "    # コンストラクタを定義する\n",
        "    def __init__(self, name, age, gender):\n",
        "        self.name = name\n",
        "        self.age = age\n",
        "        self.gender = gender\n",
        "\n",
        "# インスタンス化する\n",
        "user = User(\"侍太郎\", 36, \"男性\")\n",
        "\n",
        "# 属性にアクセスし、値を出力する\n",
        "print(user.name)\n",
        "print(user.age)\n",
        "print(user.gender)"
      ],
      "metadata": {
        "colab": {
          "base_uri": "https://localhost:8080/"
        },
        "id": "vg6zqLUGpCGr",
        "outputId": "d09d2dc2-f820-4b20-e592-f645dba7a966"
      },
      "execution_count": null,
      "outputs": [
        {
          "output_type": "stream",
          "name": "stdout",
          "text": [
            "侍太郎\n",
            "36\n",
            "男性\n"
          ]
        }
      ]
    },
    {
      "cell_type": "code",
      "source": [
        "from datetime import date\n",
        "\n",
        "class Event:\n",
        "    def __init__(self, name: str, date_: date, location: str):\n",
        "        # 属性を初期化\n",
        "        self.name = name\n",
        "        self.date = date_\n",
        "        self.location = location\n",
        "\n",
        "    def days_until(self) -> int:\n",
        "        \"\"\"開催日までの日数を返す\"\"\"\n",
        "        today = date.today()\n",
        "        delta = self.date - today\n",
        "        return delta.days\n",
        "\n",
        "\n",
        "# インスタンス作成\n",
        "event = Event(\n",
        "    \"プログラミング初心者向けセミナー\",\n",
        "    date(2025, 10, 1),\n",
        "    \"東京国際フォーラム\"\n",
        ")\n",
        "\n",
        "# 各属性にアクセスして出力\n",
        "print(\"イベント名:\", event.name)\n",
        "print(\"開催日:\", event.date)\n",
        "print(\"開催場所:\", event.location)\n",
        "\n",
        "# 開催日までの日数を出力\n",
        "print(\"開催日までの日数:\", event.days_until(), \"日\")\n"
      ],
      "metadata": {
        "colab": {
          "base_uri": "https://localhost:8080/"
        },
        "id": "t2-YrcwDpfg1",
        "outputId": "cfe3ec0e-118d-4623-9a9a-69f91e8fc85c"
      },
      "execution_count": null,
      "outputs": [
        {
          "output_type": "stream",
          "name": "stdout",
          "text": [
            "イベント名: プログラミング初心者向けセミナー\n",
            "開催日: 2025-10-01\n",
            "開催場所: 東京国際フォーラム\n",
            "開催日までの日数: 34 日\n"
          ]
        }
      ]
    },
    {
      "cell_type": "code",
      "source": [
        "class Human:\n",
        "    def __init__(self, name: str, age: int):\n",
        "        # 属性を初期化\n",
        "        self.name = name\n",
        "        self.age = age\n",
        "\n",
        "    def printinfo(self):\n",
        "        # 名前と年齢を出力\n",
        "        print(f\"名前: {self.name}, 年齢: {self.age}\")\n",
        "\n",
        "\n",
        "# インスタンスを作成して変数に代入\n",
        "person = Human(\"侍太郎\", 29)\n",
        "\n",
        "# メソッド呼び出し\n",
        "person.printinfo()\n"
      ],
      "metadata": {
        "colab": {
          "base_uri": "https://localhost:8080/"
        },
        "id": "jr7Et-UaqIat",
        "outputId": "ad5d7d5a-8704-495d-f79d-bc32188b3f2c"
      },
      "execution_count": null,
      "outputs": [
        {
          "output_type": "stream",
          "name": "stdout",
          "text": [
            "名前: 侍太郎, 年齢: 29\n"
          ]
        }
      ]
    },
    {
      "cell_type": "code",
      "source": [
        "# timeモジュールをインポート\n",
        "import time\n",
        "\n",
        "# 現在の日時を指定したフォーマットで出力する\n",
        "print(time.strftime(\"%Y年%m月%d日%H時%M分%S秒\", time.localtime()))"
      ],
      "metadata": {
        "colab": {
          "base_uri": "https://localhost:8080/"
        },
        "id": "VIdA57nUve6u",
        "outputId": "a98a196d-5630-4274-ab15-ee0630334758"
      },
      "execution_count": null,
      "outputs": [
        {
          "output_type": "stream",
          "name": "stdout",
          "text": [
            "2025年08月28日11時30分14秒\n"
          ]
        }
      ]
    },
    {
      "cell_type": "code",
      "source": [
        "!rm /etc/localtime\n",
        "!ln -s /usr/share/zoneinfo/Asia/Tokyo /etc/localtime\n",
        "!date"
      ],
      "metadata": {
        "colab": {
          "base_uri": "https://localhost:8080/"
        },
        "id": "7GciFi1PvkF4",
        "outputId": "be60a875-9418-4f6d-c515-8047f5131812"
      },
      "execution_count": null,
      "outputs": [
        {
          "output_type": "stream",
          "name": "stdout",
          "text": [
            "Thu Aug 28 08:30:14 PM JST 2025\n"
          ]
        }
      ]
    },
    {
      "cell_type": "code",
      "source": [
        "# timeモジュールをインポート\n",
        "import time\n",
        "\n",
        "# 現在の日時を指定したフォーマットで出力する\n",
        "print(time.strftime(\"%Y年%m月%d日%H時%M分%S秒\", time.localtime()))"
      ],
      "metadata": {
        "colab": {
          "base_uri": "https://localhost:8080/"
        },
        "id": "7eBInMDcv2f7",
        "outputId": "a889f0f8-7cc9-4df3-ae7b-649c20dc59bd"
      },
      "execution_count": null,
      "outputs": [
        {
          "output_type": "stream",
          "name": "stdout",
          "text": [
            "2025年08月28日11時30分14秒\n"
          ]
        }
      ]
    },
    {
      "cell_type": "code",
      "source": [
        "# timeモジュールをインポート\n",
        "import time\n",
        "\n",
        "# 現在時刻をUNIXタイムスタンプで取得\n",
        "print(time.time())"
      ],
      "metadata": {
        "colab": {
          "base_uri": "https://localhost:8080/"
        },
        "id": "w5yVyzOdwVdN",
        "outputId": "35ae4fa0-3ae4-4ef9-c9a1-bb3c88d235df"
      },
      "execution_count": null,
      "outputs": [
        {
          "output_type": "stream",
          "name": "stdout",
          "text": [
            "1756380614.3392003\n"
          ]
        }
      ]
    },
    {
      "cell_type": "code",
      "source": [
        "# datetimeモジュールをインポート\n",
        "import datetime\n",
        "\n",
        "# 現在の日時を取得する\n",
        "now = datetime.datetime.now()\n",
        "\n",
        "# 指定した日付を取得する\n",
        "date = datetime.datetime.strptime(\"2015-03-19\", \"%Y-%m-%d\")\n",
        "\n",
        "# 指定した日時を取得する\n",
        "date_time = datetime.datetime.strptime(\"2015-03-19 12:15:30\", \"%Y-%m-%d %H:%M:%S\")"
      ],
      "metadata": {
        "id": "4YcMmrAhwnGr"
      },
      "execution_count": null,
      "outputs": []
    },
    {
      "cell_type": "code",
      "source": [
        "# datetimeモジュールをインポート\n",
        "import datetime\n",
        "\n",
        "# 指定した日時を取得する\n",
        "date_time = datetime.datetime.strptime(\"2015-03-19 12:15:30\", \"%Y-%m-%d %H:%M:%S\")\n",
        "\n",
        "# 取得した日付date_timeの日時を特定のフォーマットで出力する\n",
        "print(date_time.strftime(\"%Y年%m月%d日%H時%M分%S秒\"))"
      ],
      "metadata": {
        "colab": {
          "base_uri": "https://localhost:8080/"
        },
        "id": "1w9PpQ6cw4fQ",
        "outputId": "19fc334d-6cf4-43cc-d58f-943d97eeb4c3"
      },
      "execution_count": null,
      "outputs": [
        {
          "output_type": "stream",
          "name": "stdout",
          "text": [
            "2015年03月19日12時15分30秒\n"
          ]
        }
      ]
    },
    {
      "cell_type": "code",
      "source": [
        "# datetimeモジュールをインポート\n",
        "import datetime\n",
        "\n",
        "# 指定した日時を取得する\n",
        "date_time = datetime.datetime.strptime(\"2015-03-19 12:15:30\", \"%Y-%m-%d %H:%M:%S\")\n",
        "\n",
        "print(date_time)\n",
        "\n",
        "# 年,月,日,時,分,秒だけをそれぞれ取り出すことも可能です\n",
        "print(date_time.year)\n",
        "print(date_time.month)\n",
        "print(date_time.day)\n",
        "print(date_time.hour)\n",
        "print(date_time.minute)\n",
        "print(date_time.second)"
      ],
      "metadata": {
        "colab": {
          "base_uri": "https://localhost:8080/"
        },
        "id": "wzlPThTPw_qZ",
        "outputId": "42d687c0-052e-4aef-fccf-2d9bb0a872ca"
      },
      "execution_count": null,
      "outputs": [
        {
          "output_type": "stream",
          "name": "stdout",
          "text": [
            "2015-03-19 12:15:30\n",
            "2015\n",
            "3\n",
            "19\n",
            "12\n",
            "15\n",
            "30\n"
          ]
        }
      ]
    },
    {
      "cell_type": "code",
      "source": [
        "# datetimeモジュールをインポート\n",
        "import datetime\n",
        "\n",
        "# 現在時刻を取得する\n",
        "now = datetime.datetime.now()\n",
        "\n",
        "# 指定した日時を取得する\n",
        "date_time = datetime.datetime.strptime(\"2025-11-19 12:15:30\", \"%Y-%m-%d %H:%M:%S\")\n",
        "\n",
        "# 2つのdatetimeの差を取得し、変数intervalに代入する（interval＝間隔）\n",
        "interval = now - date_time\n",
        "\n",
        "# 取得した日時の差を特定のフォーマットで出力する\n",
        "print(f\"総日数は{interval.days}日です。\")"
      ],
      "metadata": {
        "colab": {
          "base_uri": "https://localhost:8080/"
        },
        "id": "gT0t500zxKtb",
        "outputId": "fd208dae-5aa7-47d2-a4d3-64cfbd174b99"
      },
      "execution_count": null,
      "outputs": [
        {
          "output_type": "stream",
          "name": "stdout",
          "text": [
            "総日数は-84日です。\n"
          ]
        }
      ]
    },
    {
      "cell_type": "code",
      "source": [
        "# datetimeモジュールをインポート\n",
        "import datetime\n",
        "\n",
        "# 現在時刻を取得する\n",
        "now = datetime.datetime.now()\n",
        "\n",
        "# 1年間の日数差を変数td_1yに代入する\n",
        "td_1y = datetime.timedelta(days=365)\n",
        "\n",
        "# 現在の日時に1年を加算し、変数addに代入する\n",
        "add = now + td_1y\n",
        "\n",
        "# 3日間の日数差を変数td_3dに代入する\n",
        "td_3d = datetime.timedelta(days=3)\n",
        "\n",
        "# 現在の日時から3日を減算し、変数subに代入する（sub＝「減算」を意味するsubtractionの略）\n",
        "sub = now - td_3d\n",
        "\n",
        "# 加算・減算した日時を特定のフォーマットで出力する\n",
        "print(add.strftime(\"現在から1年後は%Y年%m月%d日%H時%M分%S秒です。\"))\n",
        "print(sub.strftime(\"現在から3日前は%Y年%m月%d日%H時%M分%S秒です。\"))"
      ],
      "metadata": {
        "colab": {
          "base_uri": "https://localhost:8080/"
        },
        "id": "ncFZcmhRxSSb",
        "outputId": "569a4dc7-6504-48d6-91ed-4de4a91414cb"
      },
      "execution_count": null,
      "outputs": [
        {
          "output_type": "stream",
          "name": "stdout",
          "text": [
            "現在から1年後は2026年08月28日11時30分14秒です。\n",
            "現在から3日前は2025年08月25日11時30分14秒です。\n"
          ]
        }
      ]
    },
    {
      "cell_type": "code",
      "source": [
        "pip install Django"
      ],
      "metadata": {
        "colab": {
          "base_uri": "https://localhost:8080/"
        },
        "id": "Tzg6ZDgszeVC",
        "outputId": "3f91304b-6125-4300-c724-28d41ee0fd1a"
      },
      "execution_count": null,
      "outputs": [
        {
          "output_type": "stream",
          "name": "stdout",
          "text": [
            "Collecting Django\n",
            "  Downloading django-5.2.5-py3-none-any.whl.metadata (4.1 kB)\n",
            "Collecting asgiref>=3.8.1 (from Django)\n",
            "  Downloading asgiref-3.9.1-py3-none-any.whl.metadata (9.3 kB)\n",
            "Requirement already satisfied: sqlparse>=0.3.1 in /usr/local/lib/python3.12/dist-packages (from Django) (0.5.3)\n",
            "Downloading django-5.2.5-py3-none-any.whl (8.3 MB)\n",
            "\u001b[2K   \u001b[90m━━━━━━━━━━━━━━━━━━━━━━━━━━━━━━━━━━━━━━━━\u001b[0m \u001b[32m8.3/8.3 MB\u001b[0m \u001b[31m57.9 MB/s\u001b[0m eta \u001b[36m0:00:00\u001b[0m\n",
            "\u001b[?25hDownloading asgiref-3.9.1-py3-none-any.whl (23 kB)\n",
            "Installing collected packages: asgiref, Django\n",
            "Successfully installed Django-5.2.5 asgiref-3.9.1\n"
          ]
        }
      ]
    },
    {
      "cell_type": "code",
      "source": [
        "class Human:\n",
        "    def __init__(self, name: str, age: int):\n",
        "        # 属性を初期化\n",
        "        self.name = name\n",
        "        self.age = age\n",
        "\n",
        "    def check_adult(self):\n",
        "        # 年齢によって大人かどうかを出力\n",
        "        if self.age >= 20:\n",
        "            print(f\"{self.name} さんは大人です。\")\n",
        "        else:\n",
        "            print(f\"{self.name} さんは大人ではありません。\")\n",
        "\n",
        "\n",
        "# 複数のインスタンスを生成してリストに追加\n",
        "humans = [\n",
        "    Human(\"侍太郎\", 29),\n",
        "    Human(\"花子\", 18),\n",
        "    Human(\"次郎\", 20)\n",
        "]\n",
        "\n",
        "# リストの要素数分だけ check_adult メソッドを呼び出し\n",
        "for person in humans:\n",
        "    person.check_adult()\n"
      ],
      "metadata": {
        "colab": {
          "base_uri": "https://localhost:8080/"
        },
        "id": "6cctbgiV0DeZ",
        "outputId": "6b6d8821-2c5b-4fc1-a195-aabd9d17ca5e"
      },
      "execution_count": null,
      "outputs": [
        {
          "output_type": "stream",
          "name": "stdout",
          "text": [
            "侍太郎 さんは大人です。\n",
            "花子 さんは大人ではありません。\n",
            "次郎 さんは大人です。\n"
          ]
        }
      ]
    },
    {
      "cell_type": "code",
      "source": [
        "!pip install numpy==1.24.4"
      ],
      "metadata": {
        "colab": {
          "base_uri": "https://localhost:8080/"
        },
        "id": "elWZ7zUhbvcR",
        "outputId": "5f8f6607-df6b-46aa-f6f3-7eb2e19b3332"
      },
      "execution_count": null,
      "outputs": [
        {
          "output_type": "stream",
          "name": "stdout",
          "text": [
            "Collecting numpy==1.24.4\n",
            "  Using cached numpy-1.24.4.tar.gz (10.9 MB)\n",
            "  Installing build dependencies ... \u001b[?25l\u001b[?25hdone\n",
            "  \u001b[1;31merror\u001b[0m: \u001b[1msubprocess-exited-with-error\u001b[0m\n",
            "  \n",
            "  \u001b[31m×\u001b[0m \u001b[32mGetting requirements to build wheel\u001b[0m did not run successfully.\n",
            "  \u001b[31m│\u001b[0m exit code: \u001b[1;36m1\u001b[0m\n",
            "  \u001b[31m╰─>\u001b[0m See above for output.\n",
            "  \n",
            "  \u001b[1;35mnote\u001b[0m: This error originates from a subprocess, and is likely not a problem with pip.\n",
            "  Getting requirements to build wheel ... \u001b[?25l\u001b[?25herror\n",
            "\u001b[1;31merror\u001b[0m: \u001b[1msubprocess-exited-with-error\u001b[0m\n",
            "\n",
            "\u001b[31m×\u001b[0m \u001b[32mGetting requirements to build wheel\u001b[0m did not run successfully.\n",
            "\u001b[31m│\u001b[0m exit code: \u001b[1;36m1\u001b[0m\n",
            "\u001b[31m╰─>\u001b[0m See above for output.\n",
            "\n",
            "\u001b[1;35mnote\u001b[0m: This error originates from a subprocess, and is likely not a problem with pip.\n"
          ]
        }
      ]
    },
    {
      "cell_type": "code",
      "source": [
        "!pip install numpy pandas openpyxl"
      ],
      "metadata": {
        "colab": {
          "base_uri": "https://localhost:8080/"
        },
        "id": "Tr_YIR2UdF-r",
        "outputId": "c84e26ba-1d23-4106-cc26-75db756aedd5"
      },
      "execution_count": null,
      "outputs": [
        {
          "output_type": "stream",
          "name": "stdout",
          "text": [
            "Requirement already satisfied: numpy in /usr/local/lib/python3.12/dist-packages (2.0.2)\n",
            "Requirement already satisfied: pandas in /usr/local/lib/python3.12/dist-packages (2.2.2)\n",
            "Requirement already satisfied: openpyxl in /usr/local/lib/python3.12/dist-packages (3.1.5)\n",
            "Requirement already satisfied: python-dateutil>=2.8.2 in /usr/local/lib/python3.12/dist-packages (from pandas) (2.9.0.post0)\n",
            "Requirement already satisfied: pytz>=2020.1 in /usr/local/lib/python3.12/dist-packages (from pandas) (2025.2)\n",
            "Requirement already satisfied: tzdata>=2022.7 in /usr/local/lib/python3.12/dist-packages (from pandas) (2025.2)\n",
            "Requirement already satisfied: et-xmlfile in /usr/local/lib/python3.12/dist-packages (from openpyxl) (2.0.0)\n",
            "Requirement already satisfied: six>=1.5 in /usr/local/lib/python3.12/dist-packages (from python-dateutil>=2.8.2->pandas) (1.17.0)\n"
          ]
        }
      ]
    },
    {
      "cell_type": "code",
      "source": [
        "import openpyxl\n",
        "\n",
        "# 新規ファイルの作成\n",
        "workbook = openpyxl.Workbook()\n",
        "\n",
        "# シートの選択\n",
        "sheet = workbook.active\n",
        "\n",
        "# セルに値を設定\n",
        "sheet['A1'].value = 'Hello, World!'\n",
        "\n",
        "# ファイルを別名保存\n",
        "workbook.save('sample3.xlsx')"
      ],
      "metadata": {
        "colab": {
          "base_uri": "https://localhost:8080/",
          "height": 219
        },
        "id": "bGKvGdwHe1MF",
        "outputId": "557aba11-032a-48ca-f933-12e3385abdd3"
      },
      "execution_count": null,
      "outputs": [
        {
          "output_type": "error",
          "ename": "NameError",
          "evalue": "name 'openpyxl' is not defined",
          "traceback": [
            "\u001b[0;31m---------------------------------------------------------------------------\u001b[0m",
            "\u001b[0;31mNameError\u001b[0m                                 Traceback (most recent call last)",
            "\u001b[0;32m/tmp/ipython-input-3997102643.py\u001b[0m in \u001b[0;36m<cell line: 0>\u001b[0;34m()\u001b[0m\n\u001b[1;32m      1\u001b[0m \u001b[0;31m# 新規ファイルの作成\u001b[0m\u001b[0;34m\u001b[0m\u001b[0;34m\u001b[0m\u001b[0m\n\u001b[0;32m----> 2\u001b[0;31m \u001b[0mworkbook\u001b[0m \u001b[0;34m=\u001b[0m \u001b[0mopenpyxl\u001b[0m\u001b[0;34m.\u001b[0m\u001b[0mWorkbook\u001b[0m\u001b[0;34m(\u001b[0m\u001b[0;34m)\u001b[0m\u001b[0;34m\u001b[0m\u001b[0;34m\u001b[0m\u001b[0m\n\u001b[0m\u001b[1;32m      3\u001b[0m \u001b[0;34m\u001b[0m\u001b[0m\n\u001b[1;32m      4\u001b[0m \u001b[0;31m# シートの選択\u001b[0m\u001b[0;34m\u001b[0m\u001b[0;34m\u001b[0m\u001b[0m\n\u001b[1;32m      5\u001b[0m \u001b[0msheet\u001b[0m \u001b[0;34m=\u001b[0m \u001b[0mworkbook\u001b[0m\u001b[0;34m.\u001b[0m\u001b[0mactive\u001b[0m\u001b[0;34m\u001b[0m\u001b[0;34m\u001b[0m\u001b[0m\n",
            "\u001b[0;31mNameError\u001b[0m: name 'openpyxl' is not defined"
          ]
        }
      ]
    },
    {
      "cell_type": "code",
      "source": [
        "pip install openpyxl\n"
      ],
      "metadata": {
        "colab": {
          "base_uri": "https://localhost:8080/"
        },
        "id": "frBxwxM6ffMw",
        "outputId": "617b0093-a050-48e3-d7e4-a6ef94912831"
      },
      "execution_count": null,
      "outputs": [
        {
          "output_type": "stream",
          "name": "stdout",
          "text": [
            "Requirement already satisfied: openpyxl in /usr/local/lib/python3.12/dist-packages (3.1.5)\n",
            "Requirement already satisfied: et-xmlfile in /usr/local/lib/python3.12/dist-packages (from openpyxl) (2.0.0)\n"
          ]
        }
      ]
    },
    {
      "cell_type": "code",
      "source": [],
      "metadata": {
        "id": "AIdTTRTifilP"
      },
      "execution_count": null,
      "outputs": []
    },
    {
      "cell_type": "code",
      "source": [
        "import openpyxl  # ←これを追加する\n",
        "\n",
        "# 新規ファイルの作成\n",
        "workbook = openpyxl.Workbook()\n",
        "\n",
        "# シートの選択\n",
        "sheet = workbook.active\n",
        "\n",
        "# セルに値を設定\n",
        "sheet['A1'].value = 'Hello, World!'\n",
        "\n",
        "# ファイルを別名保存\n",
        "workbook.save('sample3.xlsx')\n"
      ],
      "metadata": {
        "id": "1Mxyiqmofieb"
      },
      "execution_count": null,
      "outputs": []
    },
    {
      "cell_type": "code",
      "source": [
        "pip install openpyxl\n"
      ],
      "metadata": {
        "colab": {
          "base_uri": "https://localhost:8080/"
        },
        "id": "grLFx0S1FUXF",
        "outputId": "ceb22e49-8995-490a-c52e-104da29b45e0"
      },
      "execution_count": null,
      "outputs": [
        {
          "output_type": "stream",
          "name": "stdout",
          "text": [
            "Requirement already satisfied: openpyxl in /usr/local/lib/python3.12/dist-packages (3.1.5)\n",
            "Requirement already satisfied: et-xmlfile in /usr/local/lib/python3.12/dist-packages (from openpyxl) (2.0.0)\n"
          ]
        }
      ]
    },
    {
      "cell_type": "code",
      "source": [
        "python make_competitor_sheet.py\n"
      ],
      "metadata": {
        "colab": {
          "base_uri": "https://localhost:8080/",
          "height": 110
        },
        "id": "a6itMVbVFdpD",
        "outputId": "22f53f81-8c54-456a-bd2d-44d0957a8d7b"
      },
      "execution_count": null,
      "outputs": [
        {
          "output_type": "error",
          "ename": "SyntaxError",
          "evalue": "invalid syntax (ipython-input-3309401465.py, line 1)",
          "traceback": [
            "\u001b[0;36m  File \u001b[0;32m\"/tmp/ipython-input-3309401465.py\"\u001b[0;36m, line \u001b[0;32m1\u001b[0m\n\u001b[0;31m    python make_competitor_sheet.py\u001b[0m\n\u001b[0m           ^\u001b[0m\n\u001b[0;31mSyntaxError\u001b[0m\u001b[0;31m:\u001b[0m invalid syntax\n"
          ]
        }
      ]
    },
    {
      "cell_type": "code",
      "source": [
        "from datetime import datetime\n",
        "from openpyxl import Workbook\n",
        "from openpyxl.styles import Alignment, Font, PatternFill, Border, Side\n",
        "\n",
        "# ====== 設定 ======\n",
        "# 日付（YYYYMMDD）\n",
        "today_str = datetime.now().strftime(\"%Y%m%d\")\n",
        "\n",
        "# イニシャル（必要に応じて変更）\n",
        "initials = \"OR\"  # 例: 岡迫 竜汰 → OR\n",
        "\n",
        "# ファイル名\n",
        "filename = f\"食材宅配サービス競合調査表_{today_str}_{initials}.xlsx\"\n",
        "\n",
        "# 1セルの最大文字数（要件）\n",
        "MAX_LEN = 30\n",
        "\n",
        "def fit(s: str, maxlen: int = MAX_LEN) -> str:\n",
        "    \"\"\"セル1マス30文字以内に収める（超過時は…でカット）。\"\"\"\n",
        "    if s is None:\n",
        "        return \"\"\n",
        "    s = str(s).strip()\n",
        "    if len(s) <= maxlen:\n",
        "        return s\n",
        "    # 末尾に…を付けるので1文字分確保\n",
        "    return s[: maxlen - 1] + \"…\"\n",
        "\n",
        "# ====== データ作成（料理キット付 食材宅配に限定）======\n",
        "headers = [\n",
        "    \"基本情報\",\n",
        "    \"価格・コスト\",\n",
        "    \"強み\",\n",
        "    \"弱み\",\n",
        "    \"市場ポジション\",\n",
        "    \"マーケティング戦略\",\n",
        "    \"将来性・リスク\",\n",
        "]\n",
        "\n",
        "# 3つ以上\n",
        "rows = [\n",
        "    {\n",
        "        \"サービス名\": \"Oisix Kit Oisix\",\n",
        "        \"基本情報\": \"有機野菜中心・週替献立\",\n",
        "        \"価格・コスト\": \"1食600〜800円程/送料別\",\n",
        "        \"強み\": \"安全性とメニュー多様\",\n",
        "        \"弱み\": \"価格帯がやや高め\",\n",
        "        \"市場ポジション\": \"共働き・健康志向層\",\n",
        "        \"マーケティング戦略\": \"SNS/レシピ本/会員施策\",\n",
        "        \"将来性・リスク\": \"需要増見込/価格競争懸念\",\n",
        "    },\n",
        "    {\n",
        "        \"サービス名\": \"ヨシケイ（ミールキット）\",\n",
        "        \"基本情報\": \"地域密着/日替りキット\",\n",
        "        \"価格・コスト\": \"1食500〜700円程/配達込\",\n",
        "        \"強み\": \"送料込/配送網が強い\",\n",
        "        \"弱み\": \"定番寄り/冒険性弱い\",\n",
        "        \"市場ポジション\": \"主婦層〜幅広い年代\",\n",
        "        \"マーケティング戦略\": \"カタログ/訪問/アプリ\",\n",
        "        \"将来性・リスク\": \"高齢化で安定/競合増\",\n",
        "    },\n",
        "    {\n",
        "        \"サービス名\": \"コープデリ ミールキット\",\n",
        "        \"基本情報\": \"生協運営/組合員専用\",\n",
        "        \"価格・コスト\": \"1食400〜600円程/送料変動\",\n",
        "        \"強み\": \"価格安/信頼性高い\",\n",
        "        \"弱み\": \"組合加入が前提\",\n",
        "        \"市場ポジション\": \"ファミリー層中心\",\n",
        "        \"マーケティング戦略\": \"共同購入/宅配/紙媒体\",\n",
        "        \"将来性・リスク\": \"低価格維持/新規制約\",\n",
        "    },\n",
        "    {\n",
        "        \"サービス名\": \"HelloFresh（日本）\",\n",
        "        \"基本情報\": \"週替りレシピ/食材一式\",\n",
        "        \"価格・コスト\": \"1食600〜900円程/送料別\",\n",
        "        \"強み\": \"レシピ多彩/時短導線\",\n",
        "        \"弱み\": \"送料負担/地域差あり\",\n",
        "        \"市場ポジション\": \"都市部/時短志向層\",\n",
        "        \"マーケティング戦略\": \"デジタル広告/クーポン\",\n",
        "        \"将来性・リスク\": \"外資系拡大/為替影響\",\n",
        "    },\n",
        "]\n",
        "\n",
        "# ====== ワークブック作成 ======\n",
        "wb = Workbook()\n",
        "ws = wb.active\n",
        "ws.title = \"競合調査\"\n",
        "\n",
        "# ヘッダー行（サービス名 + 7項目）\n",
        "header_row = [\"サービス名\"] + headers\n",
        "ws.append([fit(h) for h in header_row])\n",
        "\n",
        "# スタイル準備\n",
        "header_fill = PatternFill(\"solid\", fgColor=\"D9E1F2\")\n",
        "header_font = Font(bold=True)\n",
        "center = Alignment(horizontal=\"center\", vertical=\"center\", wrap_text=True)\n",
        "left_wrap = Alignment(horizontal=\"left\", vertical=\"top\", wrap_text=True)\n",
        "thin = Side(style=\"thin\", color=\"999999\")\n",
        "border = Border(left=thin, right=thin, top=thin, bottom=thin)\n",
        "\n",
        "# ヘッダー装飾\n",
        "for col_idx, cell in enumerate(ws[1], start=1):\n",
        "    cell.fill = header_fill\n",
        "    cell.font = header_font\n",
        "    cell.alignment = center\n",
        "    cell.border = border\n",
        "\n",
        "# データ行追加（30文字制限を適用）\n",
        "for r in rows:\n",
        "    row_vals = [\n",
        "        fit(r[\"サービス名\"]),\n",
        "        fit(r[\"基本情報\"]),\n",
        "        fit(r[\"価格・コスト\"]),\n",
        "        fit(r[\"強み\"]),\n",
        "        fit(r[\"弱み\"]),\n",
        "        fit(r[\"市場ポジション\"]),\n",
        "        fit(r[\"マーケティング戦略\"]),\n",
        "        fit(r[\"将来性・リスク\"]),\n",
        "    ]\n",
        "    ws.append(row_vals)\n",
        "\n",
        "# 列幅（見やすさ重視・最大30文字基準）\n",
        "# おおよそ 1 文字 = 1 幅 とみなして 30 を上限に設定\n",
        "for col_cells in ws.columns:\n",
        "    col_letter = col_cells[0].column_letter\n",
        "    # 文字長ベースで自動調整しつつ最大30に制限\n",
        "    max_len = max(len(str(c.value)) if c.value else 0 for c in col_cells)\n",
        "    ws.column_dimensions[col_letter].width = min(max_len + 2, MAX_LEN)\n",
        "\n",
        "# 行の高さ（見やすさ）\n",
        "for row in ws.iter_rows(min_row=2, max_row=ws.max_row):\n",
        "    for c in row:\n",
        "        c.alignment = left_wrap\n",
        "        c.border = border\n",
        "ws.freeze_panes = \"B2\"  # 見出し固定（左上=サービス名/ヘッダー）\n",
        "\n",
        "# 保存\n",
        "wb.save(filename)\n",
        "print(f\"Excel出力完了: {filename}\")\n"
      ],
      "metadata": {
        "id": "4nsX2zWzFjfb",
        "outputId": "c3c6081b-472a-4d36-970f-8d949b64183d",
        "colab": {
          "base_uri": "https://localhost:8080/"
        }
      },
      "execution_count": null,
      "outputs": [
        {
          "output_type": "stream",
          "name": "stdout",
          "text": [
            "Excel出力完了: 食材宅配サービス競合調査表_20250831_OR.xlsx\n"
          ]
        }
      ]
    },
    {
      "cell_type": "code",
      "source": [
        "import openpyxl\n",
        "from openpyxl.chart import LineChart, Reference\n",
        "\n",
        "wb = openpyxl.Workbook()\n",
        "ws = wb.active\n",
        "\n",
        "ws.cell(row=1, column=2, value='d1')\n",
        "ws.cell(row=1, column=3, value='d2')\n",
        "\n",
        "for i in range(1, 6):\n",
        "    ws.cell(row=i+1, column=1, value=f\"X{i}\")\n",
        "    ws.cell(row=i+1, column=2, value=i * i)\n",
        "    ws.cell(row=i+1, column=3, value=i % 2)\n",
        "\n",
        "chart = LineChart()\n",
        "chart.title = 'Sample Chart'\n",
        "chart.x_axis.title = 'X'\n",
        "chart.y_axis.title = 'Y'\n",
        "\n",
        "data = Reference(ws, min_row=1, min_col=2, max_row=6, max_col=3)\n",
        "\n",
        "chart.add_data(data, titles_from_data=True)\n",
        "\n",
        "labels = Reference(ws, min_col=1, min_row=2, max_row=6)\n",
        "\n",
        "chart.set_categories(labels)\n",
        "\n",
        "chart.legend = None\n",
        "\n",
        "ws.add_chart(chart, 'E1')\n",
        "\n",
        "wb.save('output_LineChart.xlsx')"
      ],
      "metadata": {
        "id": "NMO9ek1FPepP"
      },
      "execution_count": null,
      "outputs": []
    },
    {
      "cell_type": "code",
      "source": [
        "!pip install numpy==1.24.4 pandas==1.5.3 openpyxl==3.0.10"
      ],
      "metadata": {
        "colab": {
          "base_uri": "https://localhost:8080/"
        },
        "id": "9NXsWkgeFWhX",
        "outputId": "782053c4-550e-4942-f07d-2f011321265e"
      },
      "execution_count": null,
      "outputs": [
        {
          "output_type": "stream",
          "name": "stdout",
          "text": [
            "Collecting numpy==1.24.4\n",
            "  Downloading numpy-1.24.4.tar.gz (10.9 MB)\n",
            "\u001b[2K     \u001b[90m━━━━━━━━━━━━━━━━━━━━━━━━━━━━━━━━━━━━━━━━\u001b[0m \u001b[32m10.9/10.9 MB\u001b[0m \u001b[31m83.4 MB/s\u001b[0m eta \u001b[36m0:00:00\u001b[0m\n",
            "\u001b[?25h  Installing build dependencies ... \u001b[?25l\u001b[?25hdone\n",
            "  \u001b[1;31merror\u001b[0m: \u001b[1msubprocess-exited-with-error\u001b[0m\n",
            "  \n",
            "  \u001b[31m×\u001b[0m \u001b[32mGetting requirements to build wheel\u001b[0m did not run successfully.\n",
            "  \u001b[31m│\u001b[0m exit code: \u001b[1;36m1\u001b[0m\n",
            "  \u001b[31m╰─>\u001b[0m See above for output.\n",
            "  \n",
            "  \u001b[1;35mnote\u001b[0m: This error originates from a subprocess, and is likely not a problem with pip.\n",
            "  Getting requirements to build wheel ... \u001b[?25l\u001b[?25herror\n",
            "\u001b[1;31merror\u001b[0m: \u001b[1msubprocess-exited-with-error\u001b[0m\n",
            "\n",
            "\u001b[31m×\u001b[0m \u001b[32mGetting requirements to build wheel\u001b[0m did not run successfully.\n",
            "\u001b[31m│\u001b[0m exit code: \u001b[1;36m1\u001b[0m\n",
            "\u001b[31m╰─>\u001b[0m See above for output.\n",
            "\n",
            "\u001b[1;35mnote\u001b[0m: This error originates from a subprocess, and is likely not a problem with pip.\n"
          ]
        }
      ]
    },
    {
      "cell_type": "code",
      "source": [
        "import openpyxl"
      ],
      "metadata": {
        "id": "yqsdEQAWGsd_"
      },
      "execution_count": null,
      "outputs": []
    },
    {
      "cell_type": "code",
      "source": [
        "openpyxl.Workbook(sample.xlsx)"
      ],
      "metadata": {
        "colab": {
          "base_uri": "https://localhost:8080/",
          "height": 146
        },
        "id": "qzvgFqaAH-Cr",
        "outputId": "c24e9139-4094-4e42-dbc4-541ea51cb95c"
      },
      "execution_count": null,
      "outputs": [
        {
          "output_type": "error",
          "ename": "NameError",
          "evalue": "name 'sample' is not defined",
          "traceback": [
            "\u001b[0;31m---------------------------------------------------------------------------\u001b[0m",
            "\u001b[0;31mNameError\u001b[0m                                 Traceback (most recent call last)",
            "\u001b[0;32m/tmp/ipython-input-1508792561.py\u001b[0m in \u001b[0;36m<cell line: 0>\u001b[0;34m()\u001b[0m\n\u001b[0;32m----> 1\u001b[0;31m \u001b[0mopenpyxl\u001b[0m\u001b[0;34m.\u001b[0m\u001b[0mWorkbook\u001b[0m\u001b[0;34m(\u001b[0m\u001b[0msample\u001b[0m\u001b[0;34m.\u001b[0m\u001b[0mxlsx\u001b[0m\u001b[0;34m)\u001b[0m\u001b[0;34m\u001b[0m\u001b[0;34m\u001b[0m\u001b[0m\n\u001b[0m",
            "\u001b[0;31mNameError\u001b[0m: name 'sample' is not defined"
          ]
        }
      ]
    },
    {
      "cell_type": "code",
      "source": [],
      "metadata": {
        "id": "5_9mIhnCIKzd"
      },
      "execution_count": null,
      "outputs": []
    },
    {
      "cell_type": "code",
      "source": [
        "import openpyxl\n",
        "\n",
        "workbook = openpyxl.Workbook()\n",
        "workbook.save('sample1.xlsx')"
      ],
      "metadata": {
        "id": "OnRx_uInIKsV"
      },
      "execution_count": null,
      "outputs": []
    },
    {
      "cell_type": "code",
      "source": [
        "workbook = openpyxl.load_workbook('sample1.xlsx')"
      ],
      "metadata": {
        "id": "bRbxRlNdI4tL"
      },
      "execution_count": null,
      "outputs": []
    },
    {
      "cell_type": "code",
      "source": [
        "# アクティブなシートを取得する（後の節で学習します）\n",
        "ws = workbook.active\n",
        "\n",
        "# セルに値を書き込む（後の節で学習します）\n",
        "ws['A1'] = 42\n",
        "\n",
        "# Excelファイルを上書き保存する\n",
        "workbook.save('sample1.xlsx')\n",
        "\n",
        "# セルに値を書き込む\n",
        "ws['A1'] = 10\n",
        "\n",
        "# Excelファイルを別名保存する\n",
        "workbook.save('sample2.xlsx')\n",
        "\n",
        "# メソッドを使った書き方\n",
        "sheet = workbook['Sheet1']\n",
        "\n",
        "# 属性を使った書き方\n",
        "sheet = workbook.active"
      ],
      "metadata": {
        "colab": {
          "base_uri": "https://localhost:8080/",
          "height": 364
        },
        "id": "2GYKfz_CI88Z",
        "outputId": "affeb50b-a732-40de-e59e-a3bb0a31dc24"
      },
      "execution_count": null,
      "outputs": [
        {
          "output_type": "error",
          "ename": "KeyError",
          "evalue": "'Worksheet Sheet1 does not exist.'",
          "traceback": [
            "\u001b[0;31m---------------------------------------------------------------------------\u001b[0m",
            "\u001b[0;31mKeyError\u001b[0m                                  Traceback (most recent call last)",
            "\u001b[0;32m/tmp/ipython-input-1473407939.py\u001b[0m in \u001b[0;36m<cell line: 0>\u001b[0;34m()\u001b[0m\n\u001b[1;32m     15\u001b[0m \u001b[0;34m\u001b[0m\u001b[0m\n\u001b[1;32m     16\u001b[0m \u001b[0;31m# メソッドを使った書き方\u001b[0m\u001b[0;34m\u001b[0m\u001b[0;34m\u001b[0m\u001b[0m\n\u001b[0;32m---> 17\u001b[0;31m \u001b[0msheet\u001b[0m \u001b[0;34m=\u001b[0m \u001b[0mworkbook\u001b[0m\u001b[0;34m[\u001b[0m\u001b[0;34m'Sheet1'\u001b[0m\u001b[0;34m]\u001b[0m\u001b[0;34m\u001b[0m\u001b[0;34m\u001b[0m\u001b[0m\n\u001b[0m\u001b[1;32m     18\u001b[0m \u001b[0;34m\u001b[0m\u001b[0m\n\u001b[1;32m     19\u001b[0m \u001b[0;31m# 属性を使った書き方\u001b[0m\u001b[0;34m\u001b[0m\u001b[0;34m\u001b[0m\u001b[0m\n",
            "\u001b[0;32m/usr/local/lib/python3.12/dist-packages/openpyxl/workbook/workbook.py\u001b[0m in \u001b[0;36m__getitem__\u001b[0;34m(self, key)\u001b[0m\n\u001b[1;32m    285\u001b[0m             \u001b[0;32mif\u001b[0m \u001b[0msheet\u001b[0m\u001b[0;34m.\u001b[0m\u001b[0mtitle\u001b[0m \u001b[0;34m==\u001b[0m \u001b[0mkey\u001b[0m\u001b[0;34m:\u001b[0m\u001b[0;34m\u001b[0m\u001b[0;34m\u001b[0m\u001b[0m\n\u001b[1;32m    286\u001b[0m                 \u001b[0;32mreturn\u001b[0m \u001b[0msheet\u001b[0m\u001b[0;34m\u001b[0m\u001b[0;34m\u001b[0m\u001b[0m\n\u001b[0;32m--> 287\u001b[0;31m         \u001b[0;32mraise\u001b[0m \u001b[0mKeyError\u001b[0m\u001b[0;34m(\u001b[0m\u001b[0;34m\"Worksheet {0} does not exist.\"\u001b[0m\u001b[0;34m.\u001b[0m\u001b[0mformat\u001b[0m\u001b[0;34m(\u001b[0m\u001b[0mkey\u001b[0m\u001b[0;34m)\u001b[0m\u001b[0;34m)\u001b[0m\u001b[0;34m\u001b[0m\u001b[0;34m\u001b[0m\u001b[0m\n\u001b[0m\u001b[1;32m    288\u001b[0m \u001b[0;34m\u001b[0m\u001b[0m\n\u001b[1;32m    289\u001b[0m     \u001b[0;32mdef\u001b[0m \u001b[0m__delitem__\u001b[0m\u001b[0;34m(\u001b[0m\u001b[0mself\u001b[0m\u001b[0;34m,\u001b[0m \u001b[0mkey\u001b[0m\u001b[0;34m)\u001b[0m\u001b[0;34m:\u001b[0m\u001b[0;34m\u001b[0m\u001b[0;34m\u001b[0m\u001b[0m\n",
            "\u001b[0;31mKeyError\u001b[0m: 'Worksheet Sheet1 does not exist.'"
          ]
        }
      ]
    },
    {
      "cell_type": "code",
      "source": [
        "# メソッドを使った書き方\n",
        "sheet = workbook['Sheet1']\n",
        "\n",
        "# 属性を使った書き方\n",
        "sheet = workbook.active"
      ],
      "metadata": {
        "colab": {
          "base_uri": "https://localhost:8080/",
          "height": 364
        },
        "id": "yLYMaUk6Jrhf",
        "outputId": "0803dcae-816a-45b5-8389-3b340f165b3b"
      },
      "execution_count": null,
      "outputs": [
        {
          "output_type": "error",
          "ename": "KeyError",
          "evalue": "'Worksheet Sheet1 does not exist.'",
          "traceback": [
            "\u001b[0;31m---------------------------------------------------------------------------\u001b[0m",
            "\u001b[0;31mKeyError\u001b[0m                                  Traceback (most recent call last)",
            "\u001b[0;32m/tmp/ipython-input-1165687275.py\u001b[0m in \u001b[0;36m<cell line: 0>\u001b[0;34m()\u001b[0m\n\u001b[1;32m      1\u001b[0m \u001b[0;31m# メソッドを使った書き方\u001b[0m\u001b[0;34m\u001b[0m\u001b[0;34m\u001b[0m\u001b[0m\n\u001b[0;32m----> 2\u001b[0;31m \u001b[0msheet\u001b[0m \u001b[0;34m=\u001b[0m \u001b[0mworkbook\u001b[0m\u001b[0;34m[\u001b[0m\u001b[0;34m'Sheet1'\u001b[0m\u001b[0;34m]\u001b[0m\u001b[0;34m\u001b[0m\u001b[0;34m\u001b[0m\u001b[0m\n\u001b[0m\u001b[1;32m      3\u001b[0m \u001b[0;34m\u001b[0m\u001b[0m\n\u001b[1;32m      4\u001b[0m \u001b[0;31m# 属性を使った書き方\u001b[0m\u001b[0;34m\u001b[0m\u001b[0;34m\u001b[0m\u001b[0m\n\u001b[1;32m      5\u001b[0m \u001b[0msheet\u001b[0m \u001b[0;34m=\u001b[0m \u001b[0mworkbook\u001b[0m\u001b[0;34m.\u001b[0m\u001b[0mactive\u001b[0m\u001b[0;34m\u001b[0m\u001b[0;34m\u001b[0m\u001b[0m\n",
            "\u001b[0;32m/usr/local/lib/python3.12/dist-packages/openpyxl/workbook/workbook.py\u001b[0m in \u001b[0;36m__getitem__\u001b[0;34m(self, key)\u001b[0m\n\u001b[1;32m    285\u001b[0m             \u001b[0;32mif\u001b[0m \u001b[0msheet\u001b[0m\u001b[0;34m.\u001b[0m\u001b[0mtitle\u001b[0m \u001b[0;34m==\u001b[0m \u001b[0mkey\u001b[0m\u001b[0;34m:\u001b[0m\u001b[0;34m\u001b[0m\u001b[0;34m\u001b[0m\u001b[0m\n\u001b[1;32m    286\u001b[0m                 \u001b[0;32mreturn\u001b[0m \u001b[0msheet\u001b[0m\u001b[0;34m\u001b[0m\u001b[0;34m\u001b[0m\u001b[0m\n\u001b[0;32m--> 287\u001b[0;31m         \u001b[0;32mraise\u001b[0m \u001b[0mKeyError\u001b[0m\u001b[0;34m(\u001b[0m\u001b[0;34m\"Worksheet {0} does not exist.\"\u001b[0m\u001b[0;34m.\u001b[0m\u001b[0mformat\u001b[0m\u001b[0;34m(\u001b[0m\u001b[0mkey\u001b[0m\u001b[0;34m)\u001b[0m\u001b[0;34m)\u001b[0m\u001b[0;34m\u001b[0m\u001b[0;34m\u001b[0m\u001b[0m\n\u001b[0m\u001b[1;32m    288\u001b[0m \u001b[0;34m\u001b[0m\u001b[0m\n\u001b[1;32m    289\u001b[0m     \u001b[0;32mdef\u001b[0m \u001b[0m__delitem__\u001b[0m\u001b[0;34m(\u001b[0m\u001b[0mself\u001b[0m\u001b[0;34m,\u001b[0m \u001b[0mkey\u001b[0m\u001b[0;34m)\u001b[0m\u001b[0;34m:\u001b[0m\u001b[0;34m\u001b[0m\u001b[0;34m\u001b[0m\u001b[0m\n",
            "\u001b[0;31mKeyError\u001b[0m: 'Worksheet Sheet1 does not exist.'"
          ]
        }
      ]
    },
    {
      "cell_type": "code",
      "source": [
        "# 新規ファイルの作成\n",
        "workbook = openpyxl.Workbook()\n",
        "\n",
        "# シートの選択\n",
        "sheet = workbook.active\n",
        "\n",
        "# セルに値を設定\n",
        "sheet['A1'].value = 'Hello, World!'\n",
        "\n",
        "# ファイルを別名保存\n",
        "workbook.save('sample3.xlsx')"
      ],
      "metadata": {
        "id": "jbOvwsGEJ85h"
      },
      "execution_count": null,
      "outputs": []
    },
    {
      "cell_type": "code",
      "source": [
        "# openpyxl.stylesモジュールのPatternFillクラスをインポート\n",
        "from openpyxl.styles import PatternFill\n",
        "\n",
        "# ワークブックを作成\n",
        "workbook = openpyxl.Workbook()\n",
        "\n",
        "# アクティブなシートを変数「sheet」に格納\n",
        "sheet = workbook.active\n",
        "\n",
        "# A1セルの背景色を赤色（#FF0000）に設定\n",
        "sheet['A1'].fill = PatternFill(patternType='solid', fgColor='FF0000')\n",
        "\n",
        "＃openpyxl.stylesモジュールのBorderクラスをインポート\n",
        "from openpyxl.styles import Border, Side\n",
        "\n",
        "#A1セルを枠線で囲う\n",
        "sheet['A1'].border = Border(\n",
        "    left=Side(style='thin'),\n",
        "    right=Side(style='thin'),\n",
        "    top=Side(style='thin'),\n",
        "    bottom=Side(style='thin')\n",
        ")\n",
        "\n",
        "# ファイルを別名保存\n",
        "\n",
        "workbook.save('sample4.xlsx')"
      ],
      "metadata": {
        "colab": {
          "base_uri": "https://localhost:8080/",
          "height": 110
        },
        "id": "fXos0PhpKlri",
        "outputId": "335d8f62-ea16-421a-d24d-74e51cb41fa5"
      },
      "execution_count": null,
      "outputs": [
        {
          "output_type": "error",
          "ename": "SyntaxError",
          "evalue": "invalid character '＃' (U+FF03) (ipython-input-3517833020.py, line 13)",
          "traceback": [
            "\u001b[0;36m  File \u001b[0;32m\"/tmp/ipython-input-3517833020.py\"\u001b[0;36m, line \u001b[0;32m13\u001b[0m\n\u001b[0;31m    ＃openpyxl.stylesモジュールのBorderクラスをインポート\u001b[0m\n\u001b[0m    ^\u001b[0m\n\u001b[0;31mSyntaxError\u001b[0m\u001b[0;31m:\u001b[0m invalid character '＃' (U+FF03)\n"
          ]
        }
      ]
    },
    {
      "cell_type": "code",
      "source": [
        "import openpyxl\n",
        "from openpyxl.styles import PatternFill, Border, Side\n",
        "\n",
        "# ワークブックを作成\n",
        "workbook = openpyxl.Workbook()\n",
        "\n",
        "# アクティブなシートを変数「sheet」に格納\n",
        "sheet = workbook.active\n",
        "\n",
        "# A1セルの背景色を赤色（#FF0000）に設定\n",
        "sheet['A1'].fill = PatternFill(patternType='solid', fgColor='FF0000')\n",
        "\n",
        "# A1セルを枠線で囲う\n",
        "sheet['A1'].border = Border(\n",
        "    left=Side(style='thin'),\n",
        "    right=Side(style='thin'),\n",
        "    top=Side(style='thin'),\n",
        "    bottom=Side(style='thin')\n",
        ")\n",
        "\n",
        "# ファイルを別名保存\n",
        "workbook.save('sample4.xlsx')\n"
      ],
      "metadata": {
        "id": "Ucxuagv6LqnK"
      },
      "execution_count": null,
      "outputs": []
    },
    {
      "cell_type": "code",
      "source": [
        "!pip install numpy==1.24.4 pandas==1.5.3 openpyxl==3.0.10"
      ],
      "metadata": {
        "colab": {
          "base_uri": "https://localhost:8080/"
        },
        "id": "CLJTqKl6bhGU",
        "outputId": "caf47588-2530-43e1-fa84-6df823ca7238"
      },
      "execution_count": null,
      "outputs": [
        {
          "output_type": "stream",
          "name": "stdout",
          "text": [
            "Collecting numpy==1.24.4\n",
            "  Downloading numpy-1.24.4.tar.gz (10.9 MB)\n",
            "\u001b[2K     \u001b[90m━━━━━━━━━━━━━━━━━━━━━━━━━━━━━━━━━━━━━━━━\u001b[0m \u001b[32m10.9/10.9 MB\u001b[0m \u001b[31m56.0 MB/s\u001b[0m eta \u001b[36m0:00:00\u001b[0m\n",
            "\u001b[?25h  Installing build dependencies ... \u001b[?25l\u001b[?25hdone\n",
            "  \u001b[1;31merror\u001b[0m: \u001b[1msubprocess-exited-with-error\u001b[0m\n",
            "  \n",
            "  \u001b[31m×\u001b[0m \u001b[32mGetting requirements to build wheel\u001b[0m did not run successfully.\n",
            "  \u001b[31m│\u001b[0m exit code: \u001b[1;36m1\u001b[0m\n",
            "  \u001b[31m╰─>\u001b[0m See above for output.\n",
            "  \n",
            "  \u001b[1;35mnote\u001b[0m: This error originates from a subprocess, and is likely not a problem with pip.\n",
            "  Getting requirements to build wheel ... \u001b[?25l\u001b[?25herror\n",
            "\u001b[1;31merror\u001b[0m: \u001b[1msubprocess-exited-with-error\u001b[0m\n",
            "\n",
            "\u001b[31m×\u001b[0m \u001b[32mGetting requirements to build wheel\u001b[0m did not run successfully.\n",
            "\u001b[31m│\u001b[0m exit code: \u001b[1;36m1\u001b[0m\n",
            "\u001b[31m╰─>\u001b[0m See above for output.\n",
            "\n",
            "\u001b[1;35mnote\u001b[0m: This error originates from a subprocess, and is likely not a problem with pip.\n"
          ]
        }
      ]
    },
    {
      "cell_type": "code",
      "source": [
        "import openpyxl\n",
        "\n",
        "# 新規ワークブックを作成\n",
        "workbook = openpyxl.Workbook()\n",
        "\n",
        "# アクティブなシートを変数「worksheet」に格納\n",
        "worksheet = workbook.active\n",
        "\n",
        "#A1セルに数値を入力\n",
        "worksheet['A1'] = 42\n",
        "\n",
        "# A1からB2の範囲のセルを結合する\n",
        "worksheet.merge_cells('A1:B2')\n",
        "\n",
        "# ファイルを保存する\n",
        "workbook.save('sample7.xlsx')"
      ],
      "metadata": {
        "id": "zOIIMnyObqDG"
      },
      "execution_count": null,
      "outputs": []
    },
    {
      "cell_type": "code",
      "source": [
        "# ファイルを読み込む\n",
        "workbook = openpyxl.load_workbook('sample7.xlsx')\n",
        "\n",
        "# アクティブなシートを変数「sheet」に格納\n",
        "worksheet = workbook.active\n",
        "\n",
        "#A1からB2の範囲の結合されたセルを解除する\n",
        "worksheet.unmerge_cells('A1:B2')\n",
        "\n",
        "# ファイルを保存する\n",
        "workbook.save('sample8.xlsx')\n"
      ],
      "metadata": {
        "id": "ut2ah1t0cBj_"
      },
      "execution_count": null,
      "outputs": []
    },
    {
      "cell_type": "code",
      "source": [
        "# セル'B2'に値を書き込む\n",
        "worksheet['B2'] = 68\n",
        "\n",
        "# 指定した行に新しい行を挿入（2行目に空白行を3行挿入）\n",
        "worksheet.insert_rows(2, 3)\n",
        "\n",
        "# ファイルを保存する\n",
        "workbook.save('sample10.xlsx')"
      ],
      "metadata": {
        "id": "ywrKLuScc5bW"
      },
      "execution_count": null,
      "outputs": []
    },
    {
      "cell_type": "code",
      "source": [
        "# datetimeモジュールのdatetimeクラスをインポートする\n",
        "from datetime import datetime"
      ],
      "metadata": {
        "id": "5Akd0Ah_egWA"
      },
      "execution_count": null,
      "outputs": []
    },
    {
      "cell_type": "code",
      "source": [
        "!pip install numpy==1.24.4 pandas==1.5.3 openpyxl==3.0.10"
      ],
      "metadata": {
        "colab": {
          "base_uri": "https://localhost:8080/"
        },
        "id": "p53hJ9G6eijh",
        "outputId": "9bddbdc5-6b29-4b9b-c975-a21f70dcdd2e"
      },
      "execution_count": null,
      "outputs": [
        {
          "output_type": "stream",
          "name": "stdout",
          "text": [
            "Collecting numpy==1.24.4\n",
            "  Using cached numpy-1.24.4.tar.gz (10.9 MB)\n",
            "  Installing build dependencies ... \u001b[?25l\u001b[?25hdone\n",
            "  \u001b[1;31merror\u001b[0m: \u001b[1msubprocess-exited-with-error\u001b[0m\n",
            "  \n",
            "  \u001b[31m×\u001b[0m \u001b[32mGetting requirements to build wheel\u001b[0m did not run successfully.\n",
            "  \u001b[31m│\u001b[0m exit code: \u001b[1;36m1\u001b[0m\n",
            "  \u001b[31m╰─>\u001b[0m See above for output.\n",
            "  \n",
            "  \u001b[1;35mnote\u001b[0m: This error originates from a subprocess, and is likely not a problem with pip.\n",
            "  Getting requirements to build wheel ... \u001b[?25l\u001b[?25herror\n",
            "\u001b[1;31merror\u001b[0m: \u001b[1msubprocess-exited-with-error\u001b[0m\n",
            "\n",
            "\u001b[31m×\u001b[0m \u001b[32mGetting requirements to build wheel\u001b[0m did not run successfully.\n",
            "\u001b[31m│\u001b[0m exit code: \u001b[1;36m1\u001b[0m\n",
            "\u001b[31m╰─>\u001b[0m See above for output.\n",
            "\n",
            "\u001b[1;35mnote\u001b[0m: This error originates from a subprocess, and is likely not a problem with pip.\n"
          ]
        }
      ]
    },
    {
      "cell_type": "code",
      "source": [
        "import openpyxl\n",
        "\n",
        "# datetimeモジュールのdatetimeクラスをインポートする\n",
        "from datetime import datetime\n",
        "\n",
        "# 新規ワークブックを作成\n",
        "workbook = openpyxl.Workbook()\n",
        "\n",
        "# 現在の日付（年月日）を取得して、変数todayに代入する\n",
        "today = datetime.today()\n",
        "\n",
        "# 日付のtodayオブジェクトを、特定のフォーマットで文字列に変換する\n",
        "backup_filename = f\"backup_{today.strftime('%Y%m%d%h%m')}.xlsx\"\n",
        "\n",
        "workbook.save(backup_filename)\n"
      ],
      "metadata": {
        "id": "i633Jq5ifg16"
      },
      "execution_count": null,
      "outputs": []
    },
    {
      "cell_type": "code",
      "source": [
        "import openpyxl\n",
        "\n",
        "# 新しいワークブックを作成\n",
        "workbook = openpyxl.Workbook()\n",
        "\n",
        "# アクティブなシートを取得\n",
        "sheet = workbook.active\n",
        "\n",
        "# 1行目に \"X1\"～\"X5\" を入力\n",
        "for i in range(1, 6):\n",
        "    sheet.cell(row=1, column=i, value=f\"X{i}\")\n",
        "\n",
        "# 2行目に 1～5 の2乗を入力\n",
        "for i in range(1, 6):\n",
        "    sheet.cell(row=2, column=i, value=i**2)\n",
        "\n",
        "# 3行目に 2行目の値を2で割った余りを入力\n",
        "for i in range(1, 6):\n",
        "    value = sheet.cell(row=2, column=i).value\n",
        "    sheet.cell(row=3, column=i, value=value % 2)\n",
        "\n",
        "# ファイル保存\n",
        "workbook.save(\"sample5.xlsx\")\n"
      ],
      "metadata": {
        "id": "ROriGmkOihg_"
      },
      "execution_count": null,
      "outputs": []
    },
    {
      "cell_type": "code",
      "source": [
        "import openpyxl\n",
        "\n",
        "# 新しいワークブックを作成\n",
        "workbook = openpyxl.Workbook()\n",
        "\n",
        "# アクティブなシートを取得\n",
        "sheet = workbook.active\n",
        "\n",
        "# 1列目に \"X1\"～\"X5\" を入力\n",
        "for i in range(1, 6):\n",
        "    sheet.cell(row=i, column=1, value=f\"X{i}\")\n",
        "\n",
        "# 2列目に 1～5 の2乗を入力\n",
        "for i in range(1, 6):\n",
        "    sheet.cell(row=i, column=2, value=i**2)\n",
        "\n",
        "# 3列目に 2列目の値を2で割った余りを入力\n",
        "for i in range(1, 6):\n",
        "    value = sheet.cell(row=i, column=2).value\n",
        "    sheet.cell(row=i, column=3, value=value % 2)\n",
        "\n",
        "# ファイル保存\n",
        "workbook.save(\"sample11.xlsx\")\n"
      ],
      "metadata": {
        "id": "NsZpU4XclCbU"
      },
      "execution_count": null,
      "outputs": []
    },
    {
      "cell_type": "code",
      "source": [
        "import openpyxl\n",
        "from openpyxl.chart import LineChart, Reference\n",
        "\n",
        "# 既存のブックを読み込み\n",
        "workbook = openpyxl.load_workbook(\"sample6.xlsx\")\n",
        "\n",
        "# アクティブなシートを取得（または sheet = workbook[\"Sheet\"] でも可）\n",
        "sheet = workbook.active\n",
        "\n",
        "# 折れ線グラフを作成\n",
        "chart = LineChart()\n",
        "chart.title = \"Sample chart\"   # グラフタイトル\n",
        "chart.x_axis.title = \"x\"       # x軸タイトル\n",
        "chart.y_axis.title = \"y\"       # y軸タイトル\n",
        "\n",
        "# データ範囲：2列目～3列目、1行目～6行目\n",
        "data = Reference(sheet, min_col=2, max_col=3, min_row=1, max_row=6)\n",
        "\n",
        "# x軸カテゴリ：1列目の2行目～6行目\n",
        "cats = Reference(sheet, min_col=1, min_row=2, max_row=6)\n",
        "\n",
        "# データを追加\n",
        "chart.add_data(data, titles_from_data=False)\n",
        "\n",
        "# カテゴリ（X軸ラベル）を設定\n",
        "chart.set_categories(cats)\n",
        "\n",
        "# シートにグラフを配置（例：E2セル位置）\n",
        "sheet.add_chart(chart, \"E2\")\n",
        "\n",
        "# 保存\n",
        "workbook.save(\"sample6_with_chart.xlsx\")\n"
      ],
      "metadata": {
        "colab": {
          "base_uri": "https://localhost:8080/",
          "height": 388
        },
        "id": "HPY6zssxoZzg",
        "outputId": "3852a8db-f1bd-4477-aabf-55203235aa24"
      },
      "execution_count": null,
      "outputs": [
        {
          "output_type": "error",
          "ename": "FileNotFoundError",
          "evalue": "[Errno 2] No such file or directory: 'sample6.xlsx'",
          "traceback": [
            "\u001b[0;31m---------------------------------------------------------------------------\u001b[0m",
            "\u001b[0;31mFileNotFoundError\u001b[0m                         Traceback (most recent call last)",
            "\u001b[0;32m/tmp/ipython-input-3854602994.py\u001b[0m in \u001b[0;36m<cell line: 0>\u001b[0;34m()\u001b[0m\n\u001b[1;32m      3\u001b[0m \u001b[0;34m\u001b[0m\u001b[0m\n\u001b[1;32m      4\u001b[0m \u001b[0;31m# 既存のブックを読み込み\u001b[0m\u001b[0;34m\u001b[0m\u001b[0;34m\u001b[0m\u001b[0m\n\u001b[0;32m----> 5\u001b[0;31m \u001b[0mworkbook\u001b[0m \u001b[0;34m=\u001b[0m \u001b[0mopenpyxl\u001b[0m\u001b[0;34m.\u001b[0m\u001b[0mload_workbook\u001b[0m\u001b[0;34m(\u001b[0m\u001b[0;34m\"sample6.xlsx\"\u001b[0m\u001b[0;34m)\u001b[0m\u001b[0;34m\u001b[0m\u001b[0;34m\u001b[0m\u001b[0m\n\u001b[0m\u001b[1;32m      6\u001b[0m \u001b[0;34m\u001b[0m\u001b[0m\n\u001b[1;32m      7\u001b[0m \u001b[0;31m# アクティブなシートを取得（または sheet = workbook[\"Sheet\"] でも可）\u001b[0m\u001b[0;34m\u001b[0m\u001b[0;34m\u001b[0m\u001b[0m\n",
            "\u001b[0;32m/usr/local/lib/python3.12/dist-packages/openpyxl/reader/excel.py\u001b[0m in \u001b[0;36mload_workbook\u001b[0;34m(filename, read_only, keep_vba, data_only, keep_links, rich_text)\u001b[0m\n\u001b[1;32m    344\u001b[0m \u001b[0;34m\u001b[0m\u001b[0m\n\u001b[1;32m    345\u001b[0m     \"\"\"\n\u001b[0;32m--> 346\u001b[0;31m     reader = ExcelReader(filename, read_only, keep_vba,\n\u001b[0m\u001b[1;32m    347\u001b[0m                          data_only, keep_links, rich_text)\n\u001b[1;32m    348\u001b[0m     \u001b[0mreader\u001b[0m\u001b[0;34m.\u001b[0m\u001b[0mread\u001b[0m\u001b[0;34m(\u001b[0m\u001b[0;34m)\u001b[0m\u001b[0;34m\u001b[0m\u001b[0;34m\u001b[0m\u001b[0m\n",
            "\u001b[0;32m/usr/local/lib/python3.12/dist-packages/openpyxl/reader/excel.py\u001b[0m in \u001b[0;36m__init__\u001b[0;34m(self, fn, read_only, keep_vba, data_only, keep_links, rich_text)\u001b[0m\n\u001b[1;32m    121\u001b[0m     def __init__(self, fn, read_only=False, keep_vba=KEEP_VBA,\n\u001b[1;32m    122\u001b[0m                  data_only=False, keep_links=True, rich_text=False):\n\u001b[0;32m--> 123\u001b[0;31m         \u001b[0mself\u001b[0m\u001b[0;34m.\u001b[0m\u001b[0marchive\u001b[0m \u001b[0;34m=\u001b[0m \u001b[0m_validate_archive\u001b[0m\u001b[0;34m(\u001b[0m\u001b[0mfn\u001b[0m\u001b[0;34m)\u001b[0m\u001b[0;34m\u001b[0m\u001b[0;34m\u001b[0m\u001b[0m\n\u001b[0m\u001b[1;32m    124\u001b[0m         \u001b[0mself\u001b[0m\u001b[0;34m.\u001b[0m\u001b[0mvalid_files\u001b[0m \u001b[0;34m=\u001b[0m \u001b[0mself\u001b[0m\u001b[0;34m.\u001b[0m\u001b[0marchive\u001b[0m\u001b[0;34m.\u001b[0m\u001b[0mnamelist\u001b[0m\u001b[0;34m(\u001b[0m\u001b[0;34m)\u001b[0m\u001b[0;34m\u001b[0m\u001b[0;34m\u001b[0m\u001b[0m\n\u001b[1;32m    125\u001b[0m         \u001b[0mself\u001b[0m\u001b[0;34m.\u001b[0m\u001b[0mread_only\u001b[0m \u001b[0;34m=\u001b[0m \u001b[0mread_only\u001b[0m\u001b[0;34m\u001b[0m\u001b[0;34m\u001b[0m\u001b[0m\n",
            "\u001b[0;32m/usr/local/lib/python3.12/dist-packages/openpyxl/reader/excel.py\u001b[0m in \u001b[0;36m_validate_archive\u001b[0;34m(filename)\u001b[0m\n\u001b[1;32m     93\u001b[0m             \u001b[0;32mraise\u001b[0m \u001b[0mInvalidFileException\u001b[0m\u001b[0;34m(\u001b[0m\u001b[0mmsg\u001b[0m\u001b[0;34m)\u001b[0m\u001b[0;34m\u001b[0m\u001b[0;34m\u001b[0m\u001b[0m\n\u001b[1;32m     94\u001b[0m \u001b[0;34m\u001b[0m\u001b[0m\n\u001b[0;32m---> 95\u001b[0;31m     \u001b[0marchive\u001b[0m \u001b[0;34m=\u001b[0m \u001b[0mZipFile\u001b[0m\u001b[0;34m(\u001b[0m\u001b[0mfilename\u001b[0m\u001b[0;34m,\u001b[0m \u001b[0;34m'r'\u001b[0m\u001b[0;34m)\u001b[0m\u001b[0;34m\u001b[0m\u001b[0;34m\u001b[0m\u001b[0m\n\u001b[0m\u001b[1;32m     96\u001b[0m     \u001b[0;32mreturn\u001b[0m \u001b[0marchive\u001b[0m\u001b[0;34m\u001b[0m\u001b[0;34m\u001b[0m\u001b[0m\n\u001b[1;32m     97\u001b[0m \u001b[0;34m\u001b[0m\u001b[0m\n",
            "\u001b[0;32m/usr/lib/python3.12/zipfile/__init__.py\u001b[0m in \u001b[0;36m__init__\u001b[0;34m(self, file, mode, compression, allowZip64, compresslevel, strict_timestamps, metadata_encoding)\u001b[0m\n\u001b[1;32m   1334\u001b[0m             \u001b[0;32mwhile\u001b[0m \u001b[0;32mTrue\u001b[0m\u001b[0;34m:\u001b[0m\u001b[0;34m\u001b[0m\u001b[0;34m\u001b[0m\u001b[0m\n\u001b[1;32m   1335\u001b[0m                 \u001b[0;32mtry\u001b[0m\u001b[0;34m:\u001b[0m\u001b[0;34m\u001b[0m\u001b[0;34m\u001b[0m\u001b[0m\n\u001b[0;32m-> 1336\u001b[0;31m                     \u001b[0mself\u001b[0m\u001b[0;34m.\u001b[0m\u001b[0mfp\u001b[0m \u001b[0;34m=\u001b[0m \u001b[0mio\u001b[0m\u001b[0;34m.\u001b[0m\u001b[0mopen\u001b[0m\u001b[0;34m(\u001b[0m\u001b[0mfile\u001b[0m\u001b[0;34m,\u001b[0m \u001b[0mfilemode\u001b[0m\u001b[0;34m)\u001b[0m\u001b[0;34m\u001b[0m\u001b[0;34m\u001b[0m\u001b[0m\n\u001b[0m\u001b[1;32m   1337\u001b[0m                 \u001b[0;32mexcept\u001b[0m \u001b[0mOSError\u001b[0m\u001b[0;34m:\u001b[0m\u001b[0;34m\u001b[0m\u001b[0;34m\u001b[0m\u001b[0m\n\u001b[1;32m   1338\u001b[0m                     \u001b[0;32mif\u001b[0m \u001b[0mfilemode\u001b[0m \u001b[0;32min\u001b[0m \u001b[0mmodeDict\u001b[0m\u001b[0;34m:\u001b[0m\u001b[0;34m\u001b[0m\u001b[0;34m\u001b[0m\u001b[0m\n",
            "\u001b[0;31mFileNotFoundError\u001b[0m: [Errno 2] No such file or directory: 'sample6.xlsx'"
          ]
        }
      ]
    },
    {
      "cell_type": "code",
      "source": [
        "import openpyxl\n",
        "from openpyxl.chart import LineChart, Reference\n",
        "\n",
        "# 既存の「sample6.xlsx」を読み込み\n",
        "wb = openpyxl.load_workbook(\"sample6.xlsx\")\n",
        "ws = wb.active  # 例: ws = wb[\"Sheet\"]\n",
        "\n",
        "# 折れ線グラフ\n",
        "chart = LineChart()\n",
        "chart.title = \"Sample chart\"\n",
        "chart.x_axis.title = \"x\"\n",
        "chart.y_axis.title = \"y\"\n",
        "\n",
        "# データ範囲：2列目～3列目、1行目～6行目（= B1:C6）\n",
        "data = Reference(worksheet=ws, min_col=2, max_col=3, min_row=1, max_row=6)\n",
        "\n",
        "# カテゴリ（x軸ラベル）：1列目の2行目～6行目（= A2:A6）\n",
        "cats = Reference(worksheet=ws, min_col=1, min_row=2, max_row=6)\n",
        "\n",
        "# 先頭行（行1）を系列名として使用 → 実データは2～6行でカテゴリと一致\n",
        "chart.add_data(data, titles_from_data=True)\n",
        "chart.set_categories(cats)\n",
        "\n",
        "# グラフを配置して保存\n",
        "ws.add_chart(chart, \"E2\")\n",
        "wb.save(\"sample6_with_chart.xlsx\")\n"
      ],
      "metadata": {
        "colab": {
          "base_uri": "https://localhost:8080/",
          "height": 388
        },
        "id": "7FvjegBro4_C",
        "outputId": "a0a34f7d-b2f6-4c8a-dd8e-4e6c5d31441d"
      },
      "execution_count": null,
      "outputs": [
        {
          "output_type": "error",
          "ename": "FileNotFoundError",
          "evalue": "[Errno 2] No such file or directory: 'sample6.xlsx'",
          "traceback": [
            "\u001b[0;31m---------------------------------------------------------------------------\u001b[0m",
            "\u001b[0;31mFileNotFoundError\u001b[0m                         Traceback (most recent call last)",
            "\u001b[0;32m/tmp/ipython-input-4167776650.py\u001b[0m in \u001b[0;36m<cell line: 0>\u001b[0;34m()\u001b[0m\n\u001b[1;32m      3\u001b[0m \u001b[0;34m\u001b[0m\u001b[0m\n\u001b[1;32m      4\u001b[0m \u001b[0;31m# 既存の「sample6.xlsx」を読み込み\u001b[0m\u001b[0;34m\u001b[0m\u001b[0;34m\u001b[0m\u001b[0m\n\u001b[0;32m----> 5\u001b[0;31m \u001b[0mwb\u001b[0m \u001b[0;34m=\u001b[0m \u001b[0mopenpyxl\u001b[0m\u001b[0;34m.\u001b[0m\u001b[0mload_workbook\u001b[0m\u001b[0;34m(\u001b[0m\u001b[0;34m\"sample6.xlsx\"\u001b[0m\u001b[0;34m)\u001b[0m\u001b[0;34m\u001b[0m\u001b[0;34m\u001b[0m\u001b[0m\n\u001b[0m\u001b[1;32m      6\u001b[0m \u001b[0mws\u001b[0m \u001b[0;34m=\u001b[0m \u001b[0mwb\u001b[0m\u001b[0;34m.\u001b[0m\u001b[0mactive\u001b[0m  \u001b[0;31m# 例: ws = wb[\"Sheet\"]\u001b[0m\u001b[0;34m\u001b[0m\u001b[0;34m\u001b[0m\u001b[0m\n\u001b[1;32m      7\u001b[0m \u001b[0;34m\u001b[0m\u001b[0m\n",
            "\u001b[0;32m/usr/local/lib/python3.12/dist-packages/openpyxl/reader/excel.py\u001b[0m in \u001b[0;36mload_workbook\u001b[0;34m(filename, read_only, keep_vba, data_only, keep_links, rich_text)\u001b[0m\n\u001b[1;32m    344\u001b[0m \u001b[0;34m\u001b[0m\u001b[0m\n\u001b[1;32m    345\u001b[0m     \"\"\"\n\u001b[0;32m--> 346\u001b[0;31m     reader = ExcelReader(filename, read_only, keep_vba,\n\u001b[0m\u001b[1;32m    347\u001b[0m                          data_only, keep_links, rich_text)\n\u001b[1;32m    348\u001b[0m     \u001b[0mreader\u001b[0m\u001b[0;34m.\u001b[0m\u001b[0mread\u001b[0m\u001b[0;34m(\u001b[0m\u001b[0;34m)\u001b[0m\u001b[0;34m\u001b[0m\u001b[0;34m\u001b[0m\u001b[0m\n",
            "\u001b[0;32m/usr/local/lib/python3.12/dist-packages/openpyxl/reader/excel.py\u001b[0m in \u001b[0;36m__init__\u001b[0;34m(self, fn, read_only, keep_vba, data_only, keep_links, rich_text)\u001b[0m\n\u001b[1;32m    121\u001b[0m     def __init__(self, fn, read_only=False, keep_vba=KEEP_VBA,\n\u001b[1;32m    122\u001b[0m                  data_only=False, keep_links=True, rich_text=False):\n\u001b[0;32m--> 123\u001b[0;31m         \u001b[0mself\u001b[0m\u001b[0;34m.\u001b[0m\u001b[0marchive\u001b[0m \u001b[0;34m=\u001b[0m \u001b[0m_validate_archive\u001b[0m\u001b[0;34m(\u001b[0m\u001b[0mfn\u001b[0m\u001b[0;34m)\u001b[0m\u001b[0;34m\u001b[0m\u001b[0;34m\u001b[0m\u001b[0m\n\u001b[0m\u001b[1;32m    124\u001b[0m         \u001b[0mself\u001b[0m\u001b[0;34m.\u001b[0m\u001b[0mvalid_files\u001b[0m \u001b[0;34m=\u001b[0m \u001b[0mself\u001b[0m\u001b[0;34m.\u001b[0m\u001b[0marchive\u001b[0m\u001b[0;34m.\u001b[0m\u001b[0mnamelist\u001b[0m\u001b[0;34m(\u001b[0m\u001b[0;34m)\u001b[0m\u001b[0;34m\u001b[0m\u001b[0;34m\u001b[0m\u001b[0m\n\u001b[1;32m    125\u001b[0m         \u001b[0mself\u001b[0m\u001b[0;34m.\u001b[0m\u001b[0mread_only\u001b[0m \u001b[0;34m=\u001b[0m \u001b[0mread_only\u001b[0m\u001b[0;34m\u001b[0m\u001b[0;34m\u001b[0m\u001b[0m\n",
            "\u001b[0;32m/usr/local/lib/python3.12/dist-packages/openpyxl/reader/excel.py\u001b[0m in \u001b[0;36m_validate_archive\u001b[0;34m(filename)\u001b[0m\n\u001b[1;32m     93\u001b[0m             \u001b[0;32mraise\u001b[0m \u001b[0mInvalidFileException\u001b[0m\u001b[0;34m(\u001b[0m\u001b[0mmsg\u001b[0m\u001b[0;34m)\u001b[0m\u001b[0;34m\u001b[0m\u001b[0;34m\u001b[0m\u001b[0m\n\u001b[1;32m     94\u001b[0m \u001b[0;34m\u001b[0m\u001b[0m\n\u001b[0;32m---> 95\u001b[0;31m     \u001b[0marchive\u001b[0m \u001b[0;34m=\u001b[0m \u001b[0mZipFile\u001b[0m\u001b[0;34m(\u001b[0m\u001b[0mfilename\u001b[0m\u001b[0;34m,\u001b[0m \u001b[0;34m'r'\u001b[0m\u001b[0;34m)\u001b[0m\u001b[0;34m\u001b[0m\u001b[0;34m\u001b[0m\u001b[0m\n\u001b[0m\u001b[1;32m     96\u001b[0m     \u001b[0;32mreturn\u001b[0m \u001b[0marchive\u001b[0m\u001b[0;34m\u001b[0m\u001b[0;34m\u001b[0m\u001b[0m\n\u001b[1;32m     97\u001b[0m \u001b[0;34m\u001b[0m\u001b[0m\n",
            "\u001b[0;32m/usr/lib/python3.12/zipfile/__init__.py\u001b[0m in \u001b[0;36m__init__\u001b[0;34m(self, file, mode, compression, allowZip64, compresslevel, strict_timestamps, metadata_encoding)\u001b[0m\n\u001b[1;32m   1334\u001b[0m             \u001b[0;32mwhile\u001b[0m \u001b[0;32mTrue\u001b[0m\u001b[0;34m:\u001b[0m\u001b[0;34m\u001b[0m\u001b[0;34m\u001b[0m\u001b[0m\n\u001b[1;32m   1335\u001b[0m                 \u001b[0;32mtry\u001b[0m\u001b[0;34m:\u001b[0m\u001b[0;34m\u001b[0m\u001b[0;34m\u001b[0m\u001b[0m\n\u001b[0;32m-> 1336\u001b[0;31m                     \u001b[0mself\u001b[0m\u001b[0;34m.\u001b[0m\u001b[0mfp\u001b[0m \u001b[0;34m=\u001b[0m \u001b[0mio\u001b[0m\u001b[0;34m.\u001b[0m\u001b[0mopen\u001b[0m\u001b[0;34m(\u001b[0m\u001b[0mfile\u001b[0m\u001b[0;34m,\u001b[0m \u001b[0mfilemode\u001b[0m\u001b[0;34m)\u001b[0m\u001b[0;34m\u001b[0m\u001b[0;34m\u001b[0m\u001b[0m\n\u001b[0m\u001b[1;32m   1337\u001b[0m                 \u001b[0;32mexcept\u001b[0m \u001b[0mOSError\u001b[0m\u001b[0;34m:\u001b[0m\u001b[0;34m\u001b[0m\u001b[0;34m\u001b[0m\u001b[0m\n\u001b[1;32m   1338\u001b[0m                     \u001b[0;32mif\u001b[0m \u001b[0mfilemode\u001b[0m \u001b[0;32min\u001b[0m \u001b[0mmodeDict\u001b[0m\u001b[0;34m:\u001b[0m\u001b[0;34m\u001b[0m\u001b[0;34m\u001b[0m\u001b[0m\n",
            "\u001b[0;31mFileNotFoundError\u001b[0m: [Errno 2] No such file or directory: 'sample6.xlsx'"
          ]
        }
      ]
    },
    {
      "cell_type": "code",
      "source": [
        "import openpyxl\n",
        "from openpyxl.chart import LineChart, Reference\n",
        "from pathlib import Path\n",
        "\n",
        "# 1) ブックの存在確認（親切チェック）\n",
        "path = Path(\"sample6.xlsx\")\n",
        "if not path.exists():\n",
        "    raise FileNotFoundError(\"sample6.xlsx が見つかりません。先に sample6.xlsx を作成してください。\")\n",
        "\n",
        "# 2) 既存ブックを読み込み\n",
        "wb = openpyxl.load_workbook(path)\n",
        "ws = wb.active   # 例: ws = wb[\"Sheet\"]\n",
        "\n",
        "# 3) 折れ線グラフを作成\n",
        "chart = LineChart()\n",
        "chart.title = \"Sample chart\"   # グラフタイトル\n",
        "chart.x_axis.title = \"x\"       # x軸タイトル\n",
        "chart.y_axis.title = \"y\"       # y軸タイトル\n",
        "\n",
        "# 4) データ範囲とカテゴリ範囲（行数を揃える）\n",
        "#    データ: B2:C6（= 2〜6行）\n",
        "#    カテゴリ: A2:A6（= 2〜6行）\n",
        "data = Reference(worksheet=ws, min_col=2, max_col=3, min_row=2, max_row=6)\n",
        "cats = Reference(worksheet=ws, min_col=1, min_row=2, max_row=6)\n",
        "\n",
        "# 5) データ追加（見出し行を使わない）\n",
        "chart.add_data(data, titles_from_data=False)\n",
        "chart.set_categories(cats)\n",
        "\n",
        "# （任意）系列名\n",
        "if len(chart.series) >= 2:\n",
        "    chart.series[0].title = \"二乗(B列)\"\n",
        "    chart.series[1].title = \"余り(C列)\"\n",
        "\n",
        "# 6) グラフを配置\n",
        "ws.add_chart(chart, \"E2\")\n",
        "\n",
        "# 7) 別名で保存（Excelで開きっぱなしの上書き失敗を回避）\n",
        "out = \"sample6_with_chart.xlsx\"\n",
        "wb.save(out)\n",
        "print(f\"グラフを追加して {out} に保存しました。\")\n"
      ],
      "metadata": {
        "colab": {
          "base_uri": "https://localhost:8080/",
          "height": 237
        },
        "id": "Oyz5AMtVpPoi",
        "outputId": "6865051a-f507-4bd4-a55e-727b66f9e4f2"
      },
      "execution_count": null,
      "outputs": [
        {
          "output_type": "error",
          "ename": "FileNotFoundError",
          "evalue": "sample6.xlsx が見つかりません。先に sample6.xlsx を作成してください。",
          "traceback": [
            "\u001b[0;31m---------------------------------------------------------------------------\u001b[0m",
            "\u001b[0;31mFileNotFoundError\u001b[0m                         Traceback (most recent call last)",
            "\u001b[0;32m/tmp/ipython-input-4266169417.py\u001b[0m in \u001b[0;36m<cell line: 0>\u001b[0;34m()\u001b[0m\n\u001b[1;32m      6\u001b[0m \u001b[0mpath\u001b[0m \u001b[0;34m=\u001b[0m \u001b[0mPath\u001b[0m\u001b[0;34m(\u001b[0m\u001b[0;34m\"sample6.xlsx\"\u001b[0m\u001b[0;34m)\u001b[0m\u001b[0;34m\u001b[0m\u001b[0;34m\u001b[0m\u001b[0m\n\u001b[1;32m      7\u001b[0m \u001b[0;32mif\u001b[0m \u001b[0;32mnot\u001b[0m \u001b[0mpath\u001b[0m\u001b[0;34m.\u001b[0m\u001b[0mexists\u001b[0m\u001b[0;34m(\u001b[0m\u001b[0;34m)\u001b[0m\u001b[0;34m:\u001b[0m\u001b[0;34m\u001b[0m\u001b[0;34m\u001b[0m\u001b[0m\n\u001b[0;32m----> 8\u001b[0;31m     \u001b[0;32mraise\u001b[0m \u001b[0mFileNotFoundError\u001b[0m\u001b[0;34m(\u001b[0m\u001b[0;34m\"sample6.xlsx が見つかりません。先に sample6.xlsx を作成してください。\"\u001b[0m\u001b[0;34m)\u001b[0m\u001b[0;34m\u001b[0m\u001b[0;34m\u001b[0m\u001b[0m\n\u001b[0m\u001b[1;32m      9\u001b[0m \u001b[0;34m\u001b[0m\u001b[0m\n\u001b[1;32m     10\u001b[0m \u001b[0;31m# 2) 既存ブックを読み込み\u001b[0m\u001b[0;34m\u001b[0m\u001b[0;34m\u001b[0m\u001b[0m\n",
            "\u001b[0;31mFileNotFoundError\u001b[0m: sample6.xlsx が見つかりません。先に sample6.xlsx を作成してください。"
          ]
        }
      ]
    },
    {
      "cell_type": "code",
      "source": [
        "import openpyxl\n",
        "from openpyxl.chart import LineChart, Reference\n",
        "\n",
        "wb = openpyxl.Workbook()\n",
        "ws = wb.active\n",
        "\n",
        "ws.cell(row=1, column=2, value='d1')\n",
        "ws.cell(row=1, column=3, value='d2')\n",
        "\n",
        "for i in range(1, 6):\n",
        "    ws.cell(row=i+1, column=1, value=f\"X{i}\")\n",
        "    ws.cell(row=i+1, column=2, value=i * i)\n",
        "    ws.cell(row=i+1, column=3, value=i % 2)\n",
        "\n",
        "chart = LineChart()\n",
        "chart.title = 'Sample Chart'\n",
        "chart.x_axis.title = 'X'\n",
        "chart.y_axis.title = 'Y'\n",
        "\n",
        "data = Reference(ws, min_row=1, min_col=2, max_row=6, max_col=3)\n",
        "\n",
        "chart.add_data(data, titles_from_data=True)\n",
        "\n",
        "labels = Reference(ws, min_col=1, min_row=2, max_row=6)\n",
        "\n",
        "chart.set_categories(labels)\n",
        "\n",
        "chart.legend = None\n",
        "\n",
        "ws.add_chart(chart, 'E1')\n",
        "\n",
        "wb.save('output_LineChart.xlsx')"
      ],
      "metadata": {
        "id": "SDJl4GNopSOt"
      },
      "execution_count": null,
      "outputs": []
    },
    {
      "cell_type": "code",
      "source": [
        "import openpyxl\n",
        "from openpyxl.chart import BarChart, Reference\n",
        "\n",
        "wb = openpyxl.Workbook()\n",
        "ws = wb.active\n",
        "\n",
        "# 見出し\n",
        "ws.cell(row=1, column=2, value='d1')\n",
        "ws.cell(row=1, column=3, value='d2')\n",
        "\n",
        "# データ\n",
        "for i in range(1, 6):\n",
        "    ws.cell(row=i+1, column=1, value=f\"X{i}\")\n",
        "    ws.cell(row=i+1, column=2, value=i * i)\n",
        "    ws.cell(row=i+1, column=3, value=i % 2)\n",
        "\n",
        "# 棒グラフ作成\n",
        "chart = BarChart()\n",
        "chart.title = 'Sample Chart'\n",
        "chart.x_axis.title = 'X'\n",
        "chart.y_axis.title = 'Y'\n",
        "\n",
        "# データ範囲（B1:C6）\n",
        "data = Reference(ws, min_row=1, min_col=2, max_row=6, max_col=3)\n",
        "chart.add_data(data, titles_from_data=True)\n",
        "\n",
        "# カテゴリ（A2:A6）\n",
        "labels = Reference(ws, min_col=1, min_row=2, max_row=6)\n",
        "chart.set_categories(labels)\n",
        "\n",
        "# 凡例を非表示にしたい場合\n",
        "chart.legend = None\n",
        "\n",
        "# シートに追加\n",
        "ws.add_chart(chart, 'E1')\n",
        "\n",
        "# 保存\n",
        "wb.save('output_BarChart.xlsx')\n"
      ],
      "metadata": {
        "id": "w3pK-oaNqJLN"
      },
      "execution_count": null,
      "outputs": []
    },
    {
      "cell_type": "code",
      "source": [
        "import openpyxl\n",
        "\n",
        "# 新しいワークブック作成\n",
        "wb = openpyxl.Workbook()\n",
        "ws = wb.active\n",
        "\n",
        "# 見出し行\n",
        "headers = [\"商品名\", \"単価\", \"数量\", \"売り上げ\"]\n",
        "ws.append(headers)\n",
        "\n",
        "# データ行\n",
        "data = [\n",
        "    [\"商品A\", 1000, 8, 8000],\n",
        "    [\"商品B\", 2000, 5, 10000],\n",
        "    [\"商品C\", 500, 13, 6500]\n",
        "]\n",
        "\n",
        "for row in data:\n",
        "    ws.append(row)\n",
        "\n",
        "# 保存\n",
        "wb.save(\"sales_table.xlsx\")\n"
      ],
      "metadata": {
        "id": "3m1ItU77wSxL"
      },
      "execution_count": null,
      "outputs": []
    },
    {
      "cell_type": "code",
      "source": [
        "import openpyxl\n",
        "from openpyxl.styles import Border, Side\n",
        "\n",
        "# 新しいワークブック作成\n",
        "wb = openpyxl.Workbook()\n",
        "ws = wb.active\n",
        "\n",
        "# 見出し行\n",
        "headers = [\"商品名\", \"単価\", \"数量\", \"売り上げ\"]\n",
        "ws.append(headers)\n",
        "\n",
        "# データ行\n",
        "data = [\n",
        "    [\"商品A\", 1000, 8, 8000],\n",
        "    [\"商品B\", 2000, 5, 10000],\n",
        "    [\"商品C\", 500, 13, 6500]\n",
        "]\n",
        "\n",
        "for row in data:\n",
        "    ws.append(row)\n",
        "\n",
        "# 枠線スタイル（細線）\n",
        "thin_border = Border(\n",
        "    left=Side(style=\"thin\"),\n",
        "    right=Side(style=\"thin\"),\n",
        "    top=Side(style=\"thin\"),\n",
        "    bottom=Side(style=\"thin\")\n",
        ")\n",
        "\n",
        "# データ範囲（A1:D4）に枠線を適用\n",
        "for row in ws[\"A1:D4\"]:\n",
        "    for cell in row:\n",
        "        cell.border = thin_border\n",
        "\n",
        "# 保存\n",
        "wb.save(\"売上表.xlsx\")\n"
      ],
      "metadata": {
        "id": "iKPbMnDow_JY"
      },
      "execution_count": null,
      "outputs": []
    },
    {
      "cell_type": "code",
      "source": [
        "import openpyxl\n",
        "from openpyxl.chart import BarChart, Reference\n",
        "\n",
        "# 既存の表を読み込み\n",
        "wb = openpyxl.load_workbook(\"売上表.xlsx\")\n",
        "ws = wb.active  # 必要なら ws = wb[\"Sheet\"] などに変更\n",
        "\n",
        "# データ範囲（B1:D4 = 単価/数量/売り上げ を系列として使う）\n",
        "data = Reference(worksheet=ws, min_col=2, max_col=4, min_row=1, max_row=4)\n",
        "\n",
        "# カテゴリ（A2:A4 = 商品名）\n",
        "cats = Reference(worksheet=ws, min_col=1, min_row=2, max_row=4)\n",
        "\n",
        "# 棒グラフ作成\n",
        "chart = BarChart()\n",
        "chart.title = \"売上表（棒グラフ）\"\n",
        "chart.x_axis.title = \"商品名\"\n",
        "chart.y_axis.title = \"値\"\n",
        "\n",
        "# データ追加（1行目を系列名として使用）\n",
        "chart.add_data(data, titles_from_data=True)\n",
        "chart.set_categories(cats)\n",
        "\n",
        "# シートに配置（例：F2セル位置）\n",
        "ws.add_chart(chart, \"F2\")\n",
        "\n",
        "# 別名で保存（上書き回避）\n",
        "wb.save(\"売上表_グラフ付き.xlsx\")\n"
      ],
      "metadata": {
        "id": "Scq-ywENyaSm"
      },
      "execution_count": null,
      "outputs": []
    },
    {
      "cell_type": "code",
      "source": [
        "import openpyxl\n",
        "from openpyxl.styles import Alignment, Border, Side\n",
        "from datetime import date\n",
        "\n",
        "# 新規ブック＆シート\n",
        "wb = openpyxl.Workbook()\n",
        "ws = wb.active\n",
        "ws.title = \"請求書\"\n",
        "\n",
        "# ========== ヘッダー ==========\n",
        "# 1列目は空白のまま使用しない\n",
        "# 2列目2行目に「請求書」\n",
        "ws.cell(row=2, column=2, value=\"請求書\")\n",
        "\n",
        "# 6列目4行目と7列目4行目\n",
        "ws.cell(row=4, column=6, value=\"請求書ナンバー\")\n",
        "ws.cell(row=4, column=7, value=\"0001\")\n",
        "\n",
        "# 6列目5行目と7列目5行目（今日の日付）\n",
        "ws.cell(row=5, column=6, value=\"日付\")\n",
        "ws.cell(row=5, column=7, value=date.today())\n",
        "ws.cell(row=5, column=7).number_format = \"yyyy-mm-dd\"\n",
        "\n",
        "# ========== 請求先情報（2列目、4行目から縦に）==========\n",
        "addr_rows = [\n",
        "    \"株式会社ABC\",\n",
        "    \"〒101-0022 東京都千代田区神田練塀町300\",\n",
        "    \"TEL:03-1234-5678 FAX:03-1234-5678\",\n",
        "    \"担当者名:鈴木一郎 様\"\n",
        "]\n",
        "for i, text in enumerate(addr_rows, start=4):\n",
        "    ws.cell(row=i, column=2, value=text)\n",
        "\n",
        "# ========== 明細ヘッダー（10行目から）==========\n",
        "# 2列目: 商品名、右に 数量・単価・金額（= 3,4,5列目）\n",
        "ws.cell(row=10, column=2, value=\"商品名\")\n",
        "ws.cell(row=10, column=3, value=\"数量\")\n",
        "ws.cell(row=10, column=4, value=\"単価\")\n",
        "ws.cell(row=10, column=5, value=\"金額\")\n",
        "\n",
        "# ========== 明細データ ==========\n",
        "# 商品A（11行目）\n",
        "ws.cell(row=11, column=2, value=\"商品A\")\n",
        "ws.cell(row=11, column=3, value=2)        # 数量\n",
        "ws.cell(row=11, column=4, value=10000)    # 単価\n",
        "ws.cell(row=11, column=5, value=\"=C11*D11\")  # 金額（自動計算）\n",
        "\n",
        "# 商品B（12行目）\n",
        "ws.cell(row=12, column=2, value=\"商品B\")\n",
        "ws.cell(row=12, column=3, value=1)        # 数量\n",
        "ws.cell(row=12, column=4, value=15000)    # 単価\n",
        "ws.cell(row=12, column=5, value=\"=C12*D12\")  # 金額（自動計算）\n",
        "\n",
        "# ========== 合計・税・税込み（15行目から）==========\n",
        "ws.cell(row=15, column=2, value=\"合計\")\n",
        "ws.cell(row=15, column=5, value=\"=SUM(E11:E12)\")\n",
        "\n",
        "ws.cell(row=16, column=2, value=\"消費税（10％）\")\n",
        "ws.cell(row=16, column=5, value=\"=E15*0.10\")\n",
        "\n",
        "ws.cell(row=17, column=2, value=\"税込み合計\")\n",
        "ws.cell(row=17, column=5, value=\"=E15+E16\")\n",
        "\n",
        "# ========== 体裁（任意：中央寄せ/枠線/列幅）==========\n",
        "center = Alignment(horizontal=\"center\", vertical=\"center\")\n",
        "for r in (10,):\n",
        "    for c in range(2, 6):\n",
        "        ws.cell(row=r, column=c).alignment = center\n",
        "\n",
        "thin = Border(left=Side(style=\"thin\"), right=Side(style=\"thin\"),\n",
        "              top=Side(style=\"thin\"), bottom=Side(style=\"thin\"))\n",
        "\n",
        "# 明細テーブル部分に枠線（ヘッダー＋明細2行）\n",
        "for r in range(10, 13):\n",
        "    for c in range(2, 6):\n",
        "        ws.cell(row=r, column=c).border = thin\n",
        "\n",
        "# 合計部分にも枠線\n",
        "for r in range(15, 18):\n",
        "    ws.cell(row=r, column=2).border = thin\n",
        "    ws.cell(row=r, column=5).border = thin\n",
        "\n",
        "# 列幅（見やすく）\n",
        "ws.column_dimensions[\"B\"].width = 28  # 商品名／住所など\n",
        "ws.column_dimensions[\"C\"].width = 10  # 数量\n",
        "ws.column_dimensions[\"D\"].width = 12  # 単価\n",
        "ws.column_dimensions[\"E\"].width = 14  # 金額\n",
        "ws.column_dimensions[\"F\"].width = 16  # ラベル\n",
        "ws.column_dimensions[\"G\"].width = 14  # 値\n",
        "\n",
        "# 保存\n",
        "wb.save(\"請求書.xlsx\")\n"
      ],
      "metadata": {
        "id": "okBugF5L1sBp"
      },
      "execution_count": null,
      "outputs": []
    },
    {
      "cell_type": "code",
      "source": [
        "import openpyxl\n",
        "from openpyxl.styles import Alignment, Border, Side\n",
        "from datetime import date\n",
        "\n",
        "# 新規ブック＆シート\n",
        "wb = openpyxl.Workbook()\n",
        "ws = wb.active\n",
        "ws.title = \"請求書\"\n",
        "\n",
        "# ========== ヘッダー ==========\n",
        "ws.cell(row=2, column=2, value=\"請求書\")\n",
        "ws.cell(row=4, column=6, value=\"請求書ナンバー\")\n",
        "ws.cell(row=4, column=7, value=\"0001\")\n",
        "ws.cell(row=5, column=6, value=\"日付\")\n",
        "ws.cell(row=5, column=7, value=date.today())\n",
        "ws.cell(row=5, column=7).number_format = \"yyyy-mm-dd\"\n",
        "\n",
        "# ========== 請求先情報 ==========\n",
        "addr_rows = [\n",
        "    \"株式会社ABC\",\n",
        "    \"〒101-0022 東京都千代田区神田練塀町300\",\n",
        "    \"TEL:03-1234-5678 FAX:03-1234-5678\",\n",
        "    \"担当者名:鈴木一郎 様\"\n",
        "]\n",
        "for i, text in enumerate(addr_rows, start=4):\n",
        "    ws.cell(row=i, column=2, value=text)\n",
        "\n",
        "# ========== 明細ヘッダー ==========\n",
        "ws.cell(row=10, column=2, value=\"商品名\")\n",
        "ws.cell(row=10, column=3, value=\"数量\")\n",
        "ws.cell(row=10, column=4, value=\"単価\")\n",
        "ws.cell(row=10, column=5, value=\"金額\")\n",
        "\n",
        "# 商品A\n",
        "ws.cell(row=11, column=2, value=\"商品A\")\n",
        "ws.cell(row=11, column=3, value=2)\n",
        "ws.cell(row=11, column=4, value=10000)\n",
        "ws.cell(row=11, column=5, value=\"=C11*D11\")\n",
        "\n",
        "# 商品B\n",
        "ws.cell(row=12, column=2, value=\"商品B\")\n",
        "ws.cell(row=12, column=3, value=1)\n",
        "ws.cell(row=12, column=4, value=15000)\n",
        "ws.cell(row=12, column=5, value=\"=C12*D12\")\n",
        "\n",
        "# ========== 合計 ==========\n",
        "ws.cell(row=15, column=2, value=\"合計\")\n",
        "ws.cell(row=15, column=5, value=\"=SUM(E11:E12)\")\n",
        "ws.cell(row=16, column=2, value=\"消費税（10％）\")\n",
        "ws.cell(row=16, column=5, value=\"=E15*0.10\")\n",
        "ws.cell(row=17, column=2, value=\"税込み合計\")\n",
        "ws.cell(row=17, column=5, value=\"=E15+E16\")\n",
        "\n",
        "# 保存ファイル名を変更\n",
        "wb.save(\"請求書_20250910.xlsx\")\n"
      ],
      "metadata": {
        "id": "_7aFL6icOZAc"
      },
      "execution_count": null,
      "outputs": []
    },
    {
      "cell_type": "code",
      "source": [
        "import pandas as pd\n",
        "\n",
        "# CSVファイルを読み込む\n",
        "df = pd.read_csv('Chapter7_1.csv')\n",
        "print(df)"
      ],
      "metadata": {
        "id": "fxDga2-vQBG2",
        "outputId": "ed1c5047-e8fe-40b8-d4b4-47fc60146a82",
        "colab": {
          "base_uri": "https://localhost:8080/",
          "height": 351
        }
      },
      "execution_count": null,
      "outputs": [
        {
          "output_type": "error",
          "ename": "FileNotFoundError",
          "evalue": "[Errno 2] No such file or directory: 'Chapter7_1.csv'",
          "traceback": [
            "\u001b[0;31m---------------------------------------------------------------------------\u001b[0m",
            "\u001b[0;31mFileNotFoundError\u001b[0m                         Traceback (most recent call last)",
            "\u001b[0;32m/tmp/ipython-input-581964207.py\u001b[0m in \u001b[0;36m<cell line: 0>\u001b[0;34m()\u001b[0m\n\u001b[1;32m      2\u001b[0m \u001b[0;34m\u001b[0m\u001b[0m\n\u001b[1;32m      3\u001b[0m \u001b[0;31m# CSVファイルを読み込む\u001b[0m\u001b[0;34m\u001b[0m\u001b[0;34m\u001b[0m\u001b[0m\n\u001b[0;32m----> 4\u001b[0;31m \u001b[0mdf\u001b[0m \u001b[0;34m=\u001b[0m \u001b[0mpd\u001b[0m\u001b[0;34m.\u001b[0m\u001b[0mread_csv\u001b[0m\u001b[0;34m(\u001b[0m\u001b[0;34m'Chapter7_1.csv'\u001b[0m\u001b[0;34m)\u001b[0m\u001b[0;34m\u001b[0m\u001b[0;34m\u001b[0m\u001b[0m\n\u001b[0m\u001b[1;32m      5\u001b[0m \u001b[0mprint\u001b[0m\u001b[0;34m(\u001b[0m\u001b[0mdf\u001b[0m\u001b[0;34m)\u001b[0m\u001b[0;34m\u001b[0m\u001b[0;34m\u001b[0m\u001b[0m\n",
            "\u001b[0;32m/usr/local/lib/python3.12/dist-packages/pandas/io/parsers/readers.py\u001b[0m in \u001b[0;36mread_csv\u001b[0;34m(filepath_or_buffer, sep, delimiter, header, names, index_col, usecols, dtype, engine, converters, true_values, false_values, skipinitialspace, skiprows, skipfooter, nrows, na_values, keep_default_na, na_filter, verbose, skip_blank_lines, parse_dates, infer_datetime_format, keep_date_col, date_parser, date_format, dayfirst, cache_dates, iterator, chunksize, compression, thousands, decimal, lineterminator, quotechar, quoting, doublequote, escapechar, comment, encoding, encoding_errors, dialect, on_bad_lines, delim_whitespace, low_memory, memory_map, float_precision, storage_options, dtype_backend)\u001b[0m\n\u001b[1;32m   1024\u001b[0m     \u001b[0mkwds\u001b[0m\u001b[0;34m.\u001b[0m\u001b[0mupdate\u001b[0m\u001b[0;34m(\u001b[0m\u001b[0mkwds_defaults\u001b[0m\u001b[0;34m)\u001b[0m\u001b[0;34m\u001b[0m\u001b[0;34m\u001b[0m\u001b[0m\n\u001b[1;32m   1025\u001b[0m \u001b[0;34m\u001b[0m\u001b[0m\n\u001b[0;32m-> 1026\u001b[0;31m     \u001b[0;32mreturn\u001b[0m \u001b[0m_read\u001b[0m\u001b[0;34m(\u001b[0m\u001b[0mfilepath_or_buffer\u001b[0m\u001b[0;34m,\u001b[0m \u001b[0mkwds\u001b[0m\u001b[0;34m)\u001b[0m\u001b[0;34m\u001b[0m\u001b[0;34m\u001b[0m\u001b[0m\n\u001b[0m\u001b[1;32m   1027\u001b[0m \u001b[0;34m\u001b[0m\u001b[0m\n\u001b[1;32m   1028\u001b[0m \u001b[0;34m\u001b[0m\u001b[0m\n",
            "\u001b[0;32m/usr/local/lib/python3.12/dist-packages/pandas/io/parsers/readers.py\u001b[0m in \u001b[0;36m_read\u001b[0;34m(filepath_or_buffer, kwds)\u001b[0m\n\u001b[1;32m    618\u001b[0m \u001b[0;34m\u001b[0m\u001b[0m\n\u001b[1;32m    619\u001b[0m     \u001b[0;31m# Create the parser.\u001b[0m\u001b[0;34m\u001b[0m\u001b[0;34m\u001b[0m\u001b[0m\n\u001b[0;32m--> 620\u001b[0;31m     \u001b[0mparser\u001b[0m \u001b[0;34m=\u001b[0m \u001b[0mTextFileReader\u001b[0m\u001b[0;34m(\u001b[0m\u001b[0mfilepath_or_buffer\u001b[0m\u001b[0;34m,\u001b[0m \u001b[0;34m**\u001b[0m\u001b[0mkwds\u001b[0m\u001b[0;34m)\u001b[0m\u001b[0;34m\u001b[0m\u001b[0;34m\u001b[0m\u001b[0m\n\u001b[0m\u001b[1;32m    621\u001b[0m \u001b[0;34m\u001b[0m\u001b[0m\n\u001b[1;32m    622\u001b[0m     \u001b[0;32mif\u001b[0m \u001b[0mchunksize\u001b[0m \u001b[0;32mor\u001b[0m \u001b[0miterator\u001b[0m\u001b[0;34m:\u001b[0m\u001b[0;34m\u001b[0m\u001b[0;34m\u001b[0m\u001b[0m\n",
            "\u001b[0;32m/usr/local/lib/python3.12/dist-packages/pandas/io/parsers/readers.py\u001b[0m in \u001b[0;36m__init__\u001b[0;34m(self, f, engine, **kwds)\u001b[0m\n\u001b[1;32m   1618\u001b[0m \u001b[0;34m\u001b[0m\u001b[0m\n\u001b[1;32m   1619\u001b[0m         \u001b[0mself\u001b[0m\u001b[0;34m.\u001b[0m\u001b[0mhandles\u001b[0m\u001b[0;34m:\u001b[0m \u001b[0mIOHandles\u001b[0m \u001b[0;34m|\u001b[0m \u001b[0;32mNone\u001b[0m \u001b[0;34m=\u001b[0m \u001b[0;32mNone\u001b[0m\u001b[0;34m\u001b[0m\u001b[0;34m\u001b[0m\u001b[0m\n\u001b[0;32m-> 1620\u001b[0;31m         \u001b[0mself\u001b[0m\u001b[0;34m.\u001b[0m\u001b[0m_engine\u001b[0m \u001b[0;34m=\u001b[0m \u001b[0mself\u001b[0m\u001b[0;34m.\u001b[0m\u001b[0m_make_engine\u001b[0m\u001b[0;34m(\u001b[0m\u001b[0mf\u001b[0m\u001b[0;34m,\u001b[0m \u001b[0mself\u001b[0m\u001b[0;34m.\u001b[0m\u001b[0mengine\u001b[0m\u001b[0;34m)\u001b[0m\u001b[0;34m\u001b[0m\u001b[0;34m\u001b[0m\u001b[0m\n\u001b[0m\u001b[1;32m   1621\u001b[0m \u001b[0;34m\u001b[0m\u001b[0m\n\u001b[1;32m   1622\u001b[0m     \u001b[0;32mdef\u001b[0m \u001b[0mclose\u001b[0m\u001b[0;34m(\u001b[0m\u001b[0mself\u001b[0m\u001b[0;34m)\u001b[0m \u001b[0;34m->\u001b[0m \u001b[0;32mNone\u001b[0m\u001b[0;34m:\u001b[0m\u001b[0;34m\u001b[0m\u001b[0;34m\u001b[0m\u001b[0m\n",
            "\u001b[0;32m/usr/local/lib/python3.12/dist-packages/pandas/io/parsers/readers.py\u001b[0m in \u001b[0;36m_make_engine\u001b[0;34m(self, f, engine)\u001b[0m\n\u001b[1;32m   1878\u001b[0m                 \u001b[0;32mif\u001b[0m \u001b[0;34m\"b\"\u001b[0m \u001b[0;32mnot\u001b[0m \u001b[0;32min\u001b[0m \u001b[0mmode\u001b[0m\u001b[0;34m:\u001b[0m\u001b[0;34m\u001b[0m\u001b[0;34m\u001b[0m\u001b[0m\n\u001b[1;32m   1879\u001b[0m                     \u001b[0mmode\u001b[0m \u001b[0;34m+=\u001b[0m \u001b[0;34m\"b\"\u001b[0m\u001b[0;34m\u001b[0m\u001b[0;34m\u001b[0m\u001b[0m\n\u001b[0;32m-> 1880\u001b[0;31m             self.handles = get_handle(\n\u001b[0m\u001b[1;32m   1881\u001b[0m                 \u001b[0mf\u001b[0m\u001b[0;34m,\u001b[0m\u001b[0;34m\u001b[0m\u001b[0;34m\u001b[0m\u001b[0m\n\u001b[1;32m   1882\u001b[0m                 \u001b[0mmode\u001b[0m\u001b[0;34m,\u001b[0m\u001b[0;34m\u001b[0m\u001b[0;34m\u001b[0m\u001b[0m\n",
            "\u001b[0;32m/usr/local/lib/python3.12/dist-packages/pandas/io/common.py\u001b[0m in \u001b[0;36mget_handle\u001b[0;34m(path_or_buf, mode, encoding, compression, memory_map, is_text, errors, storage_options)\u001b[0m\n\u001b[1;32m    871\u001b[0m         \u001b[0;32mif\u001b[0m \u001b[0mioargs\u001b[0m\u001b[0;34m.\u001b[0m\u001b[0mencoding\u001b[0m \u001b[0;32mand\u001b[0m \u001b[0;34m\"b\"\u001b[0m \u001b[0;32mnot\u001b[0m \u001b[0;32min\u001b[0m \u001b[0mioargs\u001b[0m\u001b[0;34m.\u001b[0m\u001b[0mmode\u001b[0m\u001b[0;34m:\u001b[0m\u001b[0;34m\u001b[0m\u001b[0;34m\u001b[0m\u001b[0m\n\u001b[1;32m    872\u001b[0m             \u001b[0;31m# Encoding\u001b[0m\u001b[0;34m\u001b[0m\u001b[0;34m\u001b[0m\u001b[0m\n\u001b[0;32m--> 873\u001b[0;31m             handle = open(\n\u001b[0m\u001b[1;32m    874\u001b[0m                 \u001b[0mhandle\u001b[0m\u001b[0;34m,\u001b[0m\u001b[0;34m\u001b[0m\u001b[0;34m\u001b[0m\u001b[0m\n\u001b[1;32m    875\u001b[0m                 \u001b[0mioargs\u001b[0m\u001b[0;34m.\u001b[0m\u001b[0mmode\u001b[0m\u001b[0;34m,\u001b[0m\u001b[0;34m\u001b[0m\u001b[0;34m\u001b[0m\u001b[0m\n",
            "\u001b[0;31mFileNotFoundError\u001b[0m: [Errno 2] No such file or directory: 'Chapter7_1.csv'"
          ]
        }
      ]
    },
    {
      "cell_type": "code",
      "source": [
        "import pandas as pd\n",
        "\n",
        "# データフレームの作成\n",
        "df = pd.DataFrame({\n",
        "    '日付':\n",
        "      ['2023-05-17', '2023-05-18', '2023-05-19', '2023-05-20', '2023-05-21'],\n",
        "    'スケジュール': ['設計', '開発', 'テスト', '運用', '保守'],\n",
        "    '優先レベル': [1, 2, 5, 4, 3],\n",
        "    '状況': ['完了', '作業中', '作業中', '未着手', '未着手'],\n",
        "})\n",
        "\n",
        "# 優先レベルの平均を求めて新しい列を作成\n",
        "df['平均レベル'] = df['優先レベル'].mean()\n",
        "\n",
        "# 優先レベルで分岐して緊急度を求める関数「prioritize」を定義\n",
        "def prioritize(level):\n",
        "  result = '';\n",
        "  if level >= 5:\n",
        "    result = '高';\n",
        "  elif level == 4 or level == 3:\n",
        "    result = '中';\n",
        "  else:\n",
        "    result = '低';\n",
        "  return result\n",
        "\n",
        "# 「緊急度」列を作成し、関数「prioritize」を適用して値を設定\n",
        "df['緊急度'] = df['優先レベル'].apply(prioritize)\n",
        "\n",
        "# Excelファイルを作成\n",
        "writer = pd.ExcelWriter('スケジュール管理表.xlsx')\n",
        "\n",
        "# DataFrameオブジェクトをExcelファイルに書き込む\n",
        "df.to_excel(writer, sheet_name='Sheet1', index=False)\n",
        "\n",
        "# Excelファイルを閉じる\n",
        "writer.close()\n"
      ],
      "metadata": {
        "id": "BrpiVfWyjz5V"
      },
      "execution_count": 1,
      "outputs": []
    },
    {
      "cell_type": "code",
      "source": [
        "import pandas as pd\n",
        "\n",
        "# データフレームの作成（修正版）\n",
        "df = pd.DataFrame({\n",
        "    '日付': [\n",
        "        '2023-05-17', '2023-05-18', '2023-05-19', '2023-05-20', '2023-05-21'\n",
        "    ],\n",
        "    '社員名': ['山田', '佐藤', '鈴木', '田中', '高橋'],\n",
        "    '売上': [100, 200, 150, 300, 250],\n",
        "    '部門': ['メーカー', '代理店', 'メーカー', '商社', '代理店'],\n",
        "})\n",
        "\n",
        "# 社員ごとの売上平均値を算出\n",
        "avg_sales = df.groupby('社員名')['売上'].mean().reset_index()\n",
        "avg_sales.rename(columns={'売上': '平均売上'}, inplace=True)\n",
        "\n",
        "# 元データにマージして平均を追加\n",
        "df = df.merge(avg_sales, on='社員名')\n",
        "\n",
        "# 全体平均値を計算\n",
        "overall_avg = df['売上'].mean()\n",
        "\n",
        "# 業績ランクを算出\n",
        "def rank(sales, avg):\n",
        "    if sales >= avg + 50:\n",
        "        return 'A'\n",
        "    elif sales >= avg:\n",
        "        return 'B'\n",
        "    else:\n",
        "        return 'C'\n",
        "\n",
        "df['業績ランク'] = df['平均売上'].apply(lambda x: rank(x, overall_avg))\n",
        "\n",
        "# 全体平均を部門の右に追加\n",
        "df['全体平均'] = overall_avg\n",
        "\n",
        "# Excelファイルに書き出し\n",
        "df.to_excel('業績.xlsx', index=False)\n",
        "\n",
        "print(\"業績.xlsx に書き出しました！\")\n"
      ],
      "metadata": {
        "colab": {
          "base_uri": "https://localhost:8080/"
        },
        "id": "2OdaS_9Jmbkw",
        "outputId": "e9b36ca7-9dfc-449b-a260-0cfaf390abd7"
      },
      "execution_count": 2,
      "outputs": [
        {
          "output_type": "stream",
          "name": "stdout",
          "text": [
            "業績.xlsx に書き出しました！\n"
          ]
        }
      ]
    },
    {
      "cell_type": "code",
      "source": [
        "import pandas as pd\n",
        "\n",
        "# データフレームの作成\n",
        "df = pd.DataFrame({\n",
        "    '日付': [\n",
        "        '2023-05-17', '2023-05-18', '2023-05-19', '2023-05-20', '2023-05-21'\n",
        "    ],\n",
        "    '社員名': ['山田', '佐藤', '鈴木', '田中', '高橋'],\n",
        "    '売上': [100, 200, 150, 300, 250],\n",
        "    '部門': ['メーカー', '代理店', 'メーカー', '商社', '代理店'],\n",
        "})\n",
        "\n",
        "# 全体平均値を計算\n",
        "overall_avg = df['売上'].mean()\n",
        "\n",
        "# 業績ランクを算出（全体平均を基準に判定）\n",
        "def rank(sales, avg):\n",
        "    if sales >= avg + 50:\n",
        "        return 'A'\n",
        "    elif sales >= avg:\n",
        "        return 'B'\n",
        "    else:\n",
        "        return 'C'\n",
        "\n",
        "df['業績ランク'] = df['売上'].apply(lambda x: rank(x, overall_avg))\n",
        "\n",
        "# 全体平均をE列（部門の右）に追加\n",
        "df['全体平均'] = overall_avg\n",
        "\n",
        "# Excelファイルに書き出し\n",
        "df.to_excel('業績.xlsx', index=False)\n",
        "\n",
        "print(\"業績.xlsx に全体平均をE列に追加して書き出しました！\")\n"
      ],
      "metadata": {
        "colab": {
          "base_uri": "https://localhost:8080/"
        },
        "id": "eajrUadcmtiX",
        "outputId": "71bd82f5-4d27-4103-8307-662eccf8b6e7"
      },
      "execution_count": 3,
      "outputs": [
        {
          "output_type": "stream",
          "name": "stdout",
          "text": [
            "業績.xlsx に全体平均をE列に追加して書き出しました！\n"
          ]
        }
      ]
    },
    {
      "cell_type": "code",
      "source": [
        "import pandas as pd\n",
        "\n",
        "# データフレームの作成\n",
        "df = pd.DataFrame({\n",
        "    '日付': [\n",
        "        '2023-05-17', '2023-05-18', '2023-05-19', '2023-05-20', '2023-05-21'\n",
        "    ],\n",
        "    '社員名': ['山田', '佐藤', '鈴木', '田中', '高橋'],\n",
        "    '売上': [100, 200, 150, 300, 250],\n",
        "    '部門': ['メーカー', '代理店', 'メーカー', '商社', '代理店'],\n",
        "})\n",
        "\n",
        "# 全体平均値を計算（整数に変換）\n",
        "overall_avg = int(df['売上'].mean())\n",
        "\n",
        "# 業績ランクを算出（平均を基準に判定）\n",
        "def rank(sales, avg):\n",
        "    if sales >= avg + 50:\n",
        "        return 'A'\n",
        "    elif sales >= avg:\n",
        "        return 'B'\n",
        "    else:\n",
        "        return 'C'\n",
        "\n",
        "# 平均売上（整数）を追加\n",
        "df['平均売上'] = overall_avg\n",
        "\n",
        "# 業績ランクを追加\n",
        "df['業績ランク'] = df['売上'].apply(lambda x: rank(x, overall_avg))\n",
        "\n",
        "# Excelファイルに書き出し\n",
        "df.to_excel('業績.xlsx', index=False)\n",
        "\n",
        "print(\"業績.xlsx に平均売上を整数で出力しました！\")\n"
      ],
      "metadata": {
        "id": "uODoBq2EpZUE",
        "outputId": "28956368-5abb-4b78-edaf-9faf873fb50f",
        "colab": {
          "base_uri": "https://localhost:8080/"
        }
      },
      "execution_count": 4,
      "outputs": [
        {
          "output_type": "stream",
          "name": "stdout",
          "text": [
            "業績.xlsx に平均売上を整数で出力しました！\n"
          ]
        }
      ]
    }
  ]
}